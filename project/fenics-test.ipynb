{
 "cells": [
  {
   "cell_type": "code",
   "execution_count": 1,
   "metadata": {},
   "outputs": [],
   "source": [
    "import itertools as it\n",
    "import numpy as np\n",
    "import fenics as fc\n",
    "import tools"
   ]
  },
  {
   "cell_type": "code",
   "execution_count": 2,
   "metadata": {},
   "outputs": [],
   "source": [
    "# Imports for plotting\n",
    "import ipympl\n",
    "%matplotlib widget\n",
    "import matplotlib.pyplot as plt\n",
    "# Has side effects allowing for 3D plots\n",
    "from mpl_toolkits.mplot3d import Axes3D"
   ]
  },
  {
   "cell_type": "code",
   "execution_count": 3,
   "metadata": {},
   "outputs": [],
   "source": [
    "### Define Mesh sizes\n",
    "t, T = 0.0, 50.0  # start and end times\n",
    "a, b = 0, 40      # start and end spacial positions\n",
    "fineness = tools.Object(t=0.01, x=0.01)\n",
    "\n",
    "nt = round(T / fineness.t)          # number of time steps\n",
    "nx = round((b - a) / fineness.x)         # number of space steps\n",
    "dt = fineness.t\n",
    "\n",
    "### Define periodic boundary\n",
    "class PeriodicBoundary(fc.SubDomain):\n",
    "\n",
    "    def inside(self, x, on_boundary):\n",
    "        return bool(x[0] < fc.DOLFIN_EPS and x[0] > -fc.DOLFIN_EPS and on_boundary)\n",
    "\n",
    "    # Map right boundary to left boundary\n",
    "    def map(self, x, y):\n",
    "        y[0] = x[0] - (b - a)\n",
    "\n",
    "### Create mesh and define function spaces\n",
    "mesh = fc.IntervalMesh(nx, a, b)\n",
    "F_ele = fc.FiniteElement(\"CG\", mesh.ufl_cell(), 1)\n",
    "V = fc.FunctionSpace(mesh, F_ele, \n",
    "                     constrained_domain=PeriodicBoundary())\n",
    "W = fc.FunctionSpace(mesh, fc.MixedElement([F_ele, F_ele]), \n",
    "                     constrained_domain=PeriodicBoundary())"
   ]
  },
  {
   "cell_type": "code",
   "execution_count": 4,
   "metadata": {},
   "outputs": [],
   "source": [
    "### Define and deduce initial values\n",
    "u0_uninterpolated = fc.Expression('2/cosh(x[0] - 403.0/15.0) + 5 / cosh(x[0] - 203.0/15.0)', degree=1)\n",
    "#u0_uninterpolated = fc.Expression('0.2 * exp(-fabs(x[0] - 10)) + exp(-fabs(x[0] - 5))', degree=1)\n",
    "u0 = fc.interpolate(u0_uninterpolated, V)\n",
    "\n",
    "# Find initial value m0 for m\n",
    "q = fc.TestFunction(V)\n",
    "m = fc.TrialFunction(V)\n",
    "\n",
    "dx = fc.dx\n",
    "am = q * m * dx\n",
    "Lm = (q * u0 + q.dx(0) * u0.dx(0)) * dx\n",
    "      \n",
    "m0 = fc.Function(V)\n",
    "fc.solve(am == Lm, m0)"
   ]
  },
  {
   "cell_type": "code",
   "execution_count": 5,
   "metadata": {},
   "outputs": [],
   "source": [
    "### Storing results\n",
    "# We begin by storing the intial condition.\n",
    "uvals = [u0.compute_vertex_values(mesh)]"
   ]
  },
  {
   "cell_type": "code",
   "execution_count": 6,
   "metadata": {},
   "outputs": [],
   "source": [
    "### State variational problem\n",
    "p, q = fc.TestFunctions(W)\n",
    "w = fc.Function(W)  # Function to solve for\n",
    "m, u = fc.split(w)\n",
    "# Relabel i.e. initialise m_prev, u_prev as m0, u0.\n",
    "m_prev, u_prev = m0, u0\n",
    "m_mid = 0.5 * (m + m_prev)\n",
    "u_mid = 0.5 * (u + u_prev)\n",
    "F = (\n",
    "    (q * u + q.dx(0) * u.dx(0) - q * m) * dx +                                          # q part\n",
    "    (p * (m - m_prev) + dt * (p * m_mid * u_mid.dx(0) - p.dx(0) * m_mid * u_mid)) * dx  # p part\n",
    "    )\n",
    "J = fc.derivative(F, w)\n",
    "problem = fc.NonlinearVariationalProblem(F, w, J=J)\n",
    "solver = fc.NonlinearVariationalSolver(problem)"
   ]
  },
  {
   "cell_type": "code",
   "execution_count": 7,
   "metadata": {},
   "outputs": [],
   "source": [
    "### Time step through the problem\n",
    "for n in range(nt):\n",
    "#     if n % 10 == 0:\n",
    "#         E = assemble((u_prev * u_prev + u_prev.dx(0) * u_prev.dx(0)) * dx)\n",
    "#         print(\"time {:0>4} energy {}\".format(t, E))  # Energy should remain constant\n",
    "    t += dt\n",
    "    solver.solve()\n",
    "    # For some reason m_prev.assign(m) fails unless a deepcopy is made here\n",
    "    m, u = w.split(deepcopy=True)\n",
    "    uvals.append(u.compute_vertex_values(mesh))  # Save result\n",
    "    m_prev.assign(m)  # Update for next loop\n",
    "    u_prev.assign(u)  #"
   ]
  },
  {
   "cell_type": "code",
   "execution_count": 8,
   "metadata": {},
   "outputs": [],
   "source": [
    "uvals = np.array(uvals)\n",
    "xvals = mesh.coordinates()[:, 0]\n",
    "tvals = np.linspace(0, T, nt + 1)"
   ]
  },
  {
   "cell_type": "code",
   "execution_count": 9,
   "metadata": {},
   "outputs": [],
   "source": [
    "# fig = plt.figure(figsize=(10, 10))\n",
    "# ax = fig.add_subplot(1, 1, 1, projection='3d')\n",
    "# # X, Y = np.meshgrid(xvals, tvals)\n",
    "# # ax.plot_trisurf(X.flatten(), Y.flatten(), uvals.flatten())\n",
    "# ax.plot_surface(*np.meshgrid(xvals, tvals), uvals)\n",
    "# ax.set_xlabel('x')\n",
    "# ax.set_ylabel('t')"
   ]
  },
  {
   "cell_type": "code",
   "execution_count": 12,
   "metadata": {},
   "outputs": [
    {
     "data": {
      "application/vnd.jupyter.widget-view+json": {
       "model_id": "f63457a0629f4cb5b609edb8f3bb0337",
       "version_major": 2,
       "version_minor": 0
      },
      "text/plain": [
       "FigureCanvasNbAgg()"
      ]
     },
     "metadata": {},
     "output_type": "display_data"
    }
   ],
   "source": [
    "fig = plt.figure(figsize=(10, 10))\n",
    "ax = fig.add_subplot(1, 1, 1)\n",
    "#ax.axis('off')\n",
    "step = round(1 / fineness.t)\n",
    "base = np.zeros(uvals.shape[1])\n",
    "for i in range(0, len(uvals) + 1, step):\n",
    "    zorder = len(uvals) - round(i / step)\n",
    "    offset = 0.01 * i\n",
    "    ax.fill_between(xvals, offset + uvals[i], offset, color='white', zorder=zorder)\n",
    "    ax.plot(xvals, offset + uvals[i], color='black', zorder=zorder)"
   ]
  },
  {
   "cell_type": "code",
   "execution_count": null,
   "metadata": {},
   "outputs": [],
   "source": []
  }
 ],
 "metadata": {
  "kernelspec": {
   "display_name": "Python 3",
   "language": "python",
   "name": "python3"
  },
  "language_info": {
   "codemirror_mode": {
    "name": "ipython",
    "version": 3
   },
   "file_extension": ".py",
   "mimetype": "text/x-python",
   "name": "python",
   "nbconvert_exporter": "python",
   "pygments_lexer": "ipython3",
   "version": "3.6.6"
  }
 },
 "nbformat": 4,
 "nbformat_minor": 2
}
