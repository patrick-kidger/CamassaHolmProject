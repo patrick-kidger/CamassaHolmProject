{
 "cells": [
  {
   "cell_type": "code",
   "execution_count": 1,
   "metadata": {},
   "outputs": [],
   "source": [
    "# Given the values of a single peakon on a coarse grid, this DNN predicts the value of the peakon at a particular location.\n",
    "# Essentially, given the values shown by the @ and G symbols, and a location within the ... region, it will output its\n",
    "# prediction for the value at that location.\n",
    "# (In terms of the gen_one_data function below, then (t, x) is the location of the G symbol and (t2, x2) is the random\n",
    "# location within the ... region.)\n",
    "#\n",
    "#\n",
    "# @   @   @   @   @   @\n",
    "#\n",
    "#\n",
    "#\n",
    "# @   @   @   @   @   @\n",
    "#\n",
    "#       .........\n",
    "#       .       .\n",
    "# @   @ . @   @ . @   @\n",
    "#       .       .\n",
    "#       .       .\n",
    "#       .       .\n",
    "# @   @ . G   @ . @   @\n",
    "#       .       .\n",
    "#       .........\n",
    "#\n",
    "# @   @   @   @   @   @\n",
    "#\n",
    "#\n",
    "#\n",
    "# @   @   @   @   @   @"
   ]
  },
  {
   "cell_type": "code",
   "execution_count": 2,
   "metadata": {},
   "outputs": [],
   "source": [
    "import tensorflow as tf\n",
    "\n",
    "# https://github.com/patrick-kidger/tools\n",
    "import tools\n",
    "\n",
    "from base import ml"
   ]
  },
  {
   "cell_type": "code",
   "execution_count": 3,
   "metadata": {},
   "outputs": [],
   "source": [
    "# Set to False to use existing weights for the neural network.\n",
    "# Set to True to continue training the weights from where we left off last time.\n",
    "TRAIN = True"
   ]
  },
  {
   "cell_type": "code",
   "execution_count": null,
   "metadata": {},
   "outputs": [
    {
     "name": "stdout",
     "output_type": "stream",
     "text": [
      "INFO:tensorflow:Using config: {'_model_dir': './saved_models/point_single_peakon/400x2_1__ScaleCenterAtPoint_crelu', '_tf_random_seed': None, '_save_summary_steps': 100, '_save_checkpoints_steps': None, '_save_checkpoints_secs': 600, '_session_config': None, '_keep_checkpoint_max': 5, '_keep_checkpoint_every_n_hours': 10000, '_log_step_count_steps': 1000, '_train_distribute': None, '_device_fn': None, '_service': None, '_cluster_spec': <tensorflow.python.training.server_lib.ClusterSpec object at 0x7f7a29d2d278>, '_task_type': 'worker', '_task_id': 0, '_global_id_in_cluster': 0, '_master': '', '_evaluation_master': '', '_is_chief': True, '_num_ps_replicas': 0, '_num_worker_replicas': 1}\n",
      "INFO:tensorflow:Calling model_fn.\n",
      "INFO:tensorflow:Done calling model_fn.\n",
      "INFO:tensorflow:Create CheckpointSaverHook.\n",
      "INFO:tensorflow:Graph was finalized.\n",
      "INFO:tensorflow:Running local_init_op.\n",
      "INFO:tensorflow:Done running local_init_op.\n",
      "INFO:tensorflow:Saving checkpoints for 0 into ./saved_models/point_single_peakon/400x2_1__ScaleCenterAtPoint_crelu/model.ckpt.\n",
      "INFO:tensorflow:loss = 2.6043754, step = 1\n",
      "INFO:tensorflow:global_step/sec: 39.8531\n",
      "INFO:tensorflow:loss = 0.14100362, step = 1001 (25.094 sec)\n"
     ]
    }
   ],
   "source": [
    "for network_width in [400, 600, 800]:\n",
    "    for network_depth in [2, 4, 6]:\n",
    "        ### DNN hyperparameters\n",
    "        hidden_units = [network_width] * network_depth\n",
    "        logits = 1\n",
    "        processor = ml.ScaleCenterAtPoint()\n",
    "        activation=tf.nn.crelu\n",
    "\n",
    "        ### Training hyperparameters #1\n",
    "        drop_rate = 0.0\n",
    "        drop_type = 'dropout'\n",
    "        gradient_clip = 1.0  # May be set to None to turn off gradient clipping\n",
    "\n",
    "        ### Logging/saving hyperparameters\n",
    "        log_steps = 1000  # How many steps to print the current loss.\n",
    "        model_dir_base = './saved_models/point_multi_peakon/'\n",
    "        uuid = None\n",
    "        model_dir = ml.model_dir_str(model_dir_base, hidden_units, logits,\n",
    "                                     processor=processor, activation=activation, \n",
    "                                     uuid=uuid)\n",
    "\n",
    "        dnn_factory = ml.DNNFactory(hidden_units, logits, drop_rate=drop_rate,\n",
    "                                    drop_type=drop_type, model_dir=model_dir, \n",
    "                                    log_steps=log_steps, activation=activation, \n",
    "                                    gradient_clip=gradient_clip, batch_norm=False,\n",
    "                                    processor=processor)\n",
    "\n",
    "        max_steps = 0\n",
    "        if TRAIN:\n",
    "            ### Training hyperparameters #2\n",
    "            batch_size = 50\n",
    "            max_steps += 5000\n",
    "            train_input_fn = ml.BatchData.from_func(gen_one_data=ml.gen_peakons_at_point, \n",
    "                                                    batch_size=batch_size)\n",
    "            dnn = dnn_factory()\n",
    "            dnn.train(input_fn=train_input_fn, max_steps=max_steps)\n",
    "\n",
    "            batch_size = 500\n",
    "            max_steps += 5000\n",
    "            train_input_fn = ml.BatchData.from_func(gen_one_data=ml.gen_peakons_at_point, \n",
    "                                                    batch_size=batch_size)\n",
    "            dnn = dnn_factory()\n",
    "            dnn.train(input_fn=train_input_fn, max_steps=max_steps)"
   ]
  },
  {
   "cell_type": "code",
   "execution_count": null,
   "metadata": {},
   "outputs": [],
   "source": []
  }
 ],
 "metadata": {
  "kernelspec": {
   "display_name": "Python 3",
   "language": "python",
   "name": "python3"
  },
  "language_info": {
   "codemirror_mode": {
    "name": "ipython",
    "version": 3
   },
   "file_extension": ".py",
   "mimetype": "text/x-python",
   "name": "python",
   "nbconvert_exporter": "python",
   "pygments_lexer": "ipython3",
   "version": "3.6.6"
  }
 },
 "nbformat": 4,
 "nbformat_minor": 2
}
