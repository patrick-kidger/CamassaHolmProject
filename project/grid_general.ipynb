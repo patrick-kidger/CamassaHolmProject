{
 "cells": [
  {
   "cell_type": "code",
   "execution_count": 1,
   "metadata": {},
   "outputs": [],
   "source": [
    "import tensorflow as tf\n",
    "\n",
    "from base import ml"
   ]
  },
  {
   "cell_type": "code",
   "execution_count": 2,
   "metadata": {},
   "outputs": [],
   "source": [
    "# Set to False to use existing weights for the neural network.\n",
    "# Set to True to continue training the weights from where we left off last time.\n",
    "TRAIN = True"
   ]
  },
  {
   "cell_type": "code",
   "execution_count": null,
   "metadata": {},
   "outputs": [
    {
     "name": "stdout",
     "output_type": "stream",
     "text": [
      "INFO:tensorflow:Using config: {'_model_dir': './saved_models/grid_general/64x2_121__ScaleCenter_crelu', '_tf_random_seed': None, '_save_summary_steps': 100, '_save_checkpoints_steps': None, '_save_checkpoints_secs': 600, '_session_config': None, '_keep_checkpoint_max': 5, '_keep_checkpoint_every_n_hours': 10000, '_log_step_count_steps': 1000, '_train_distribute': None, '_device_fn': None, '_service': None, '_cluster_spec': <tensorflow.python.training.server_lib.ClusterSpec object at 0x7fbf5ac2ec18>, '_task_type': 'worker', '_task_id': 0, '_global_id_in_cluster': 0, '_master': '', '_evaluation_master': '', '_is_chief': True, '_num_ps_replicas': 0, '_num_worker_replicas': 1}\n",
      "INFO:tensorflow:Calling model_fn.\n",
      "INFO:tensorflow:Done calling model_fn.\n",
      "INFO:tensorflow:Create CheckpointSaverHook.\n",
      "INFO:tensorflow:Graph was finalized.\n",
      "INFO:tensorflow:Restoring parameters from ./saved_models/grid_general/64x2_121__ScaleCenter_crelu/model.ckpt-0\n",
      "INFO:tensorflow:Running local_init_op.\n",
      "INFO:tensorflow:Done running local_init_op.\n",
      "INFO:tensorflow:Saving checkpoints for 0 into ./saved_models/grid_general/64x2_121__ScaleCenter_crelu/model.ckpt.\n",
      "INFO:tensorflow:loss = 0.28658825, step = 1\n",
      "INFO:tensorflow:global_step/sec: 44.7833\n",
      "INFO:tensorflow:loss = 0.011101315, step = 1001 (22.331 sec)\n",
      "INFO:tensorflow:Error whilst loading FEnicCS solution from save; generating FEniCS solution instead. Error message: [Errno 2] No such file or directory: './fenics_data/22/tvals.npy'\n",
      "INFO:tensorflow:Error whilst loading FEnicCS solution from save; generating FEniCS solution instead. Error message: [Errno 2] No such file or directory: './fenics_data/21/tvals.npy'\n",
      "INFO:tensorflow:Error whilst loading FEnicCS solution from save; generating FEniCS solution instead. Error message: [Errno 2] No such file or directory: './fenics_data/23/tvals.npy'\n",
      "INFO:tensorflow:Error whilst loading FEnicCS solution from save; generating FEniCS solution instead. Error message: [Errno 2] No such file or directory: './fenics_data/25/tvals.npy'\n",
      "INFO:tensorflow:Error whilst loading FEnicCS solution from save; generating FEniCS solution instead. Error message: [Errno 2] No such file or directory: './fenics_data/24/tvals.npy'\n",
      "INFO:tensorflow:Error whilst loading FEnicCS solution from save; generating FEniCS solution instead. Error message: [Errno 2] No such file or directory: './fenics_data/27/tvals.npy'\n",
      "INFO:tensorflow:Error whilst loading FEnicCS solution from save; generating FEniCS solution instead. Error message: [Errno 2] No such file or directory: './fenics_data/26/tvals.npy'\n",
      "INFO:tensorflow:Error whilst loading FEnicCS solution from save; generating FEniCS solution instead. Error message: [Errno 2] No such file or directory: './fenics_data/28/tvals.npy'\n",
      "INFO:tensorflow:global_step/sec: 5.4274\n",
      "INFO:tensorflow:loss = 0.0023783967, step = 2001 (184.250 sec)\n",
      "INFO:tensorflow:Error whilst loading FEnicCS solution from save; generating FEniCS solution instead. Error message: [Errno 2] No such file or directory: './fenics_data/31/tvals.npy'\n",
      "INFO:tensorflow:Error whilst loading FEnicCS solution from save; generating FEniCS solution instead. Error message: [Errno 2] No such file or directory: './fenics_data/29/tvals.npy'\n",
      "INFO:tensorflow:Error whilst loading FEnicCS solution from save; generating FEniCS solution instead. Error message: [Errno 2] No such file or directory: './fenics_data/30/tvals.npy'\n",
      "INFO:tensorflow:Error whilst loading FEnicCS solution from save; generating FEniCS solution instead. Error message: [Errno 2] No such file or directory: './fenics_data/34/tvals.npy'\n",
      "INFO:tensorflow:Error whilst loading FEnicCS solution from save; generating FEniCS solution instead. Error message: [Errno 2] No such file or directory: './fenics_data/33/tvals.npy'\n",
      "INFO:tensorflow:Error whilst loading FEnicCS solution from save; generating FEniCS solution instead. Error message: [Errno 2] No such file or directory: './fenics_data/32/tvals.npy'\n",
      "INFO:tensorflow:Error whilst loading FEnicCS solution from save; generating FEniCS solution instead. Error message: [Errno 2] No such file or directory: './fenics_data/36/tvals.npy'\n",
      "INFO:tensorflow:Error whilst loading FEnicCS solution from save; generating FEniCS solution instead. Error message: [Errno 2] No such file or directory: './fenics_data/35/tvals.npy'\n"
     ]
    }
   ],
   "source": [
    "for width in (64, 128, 256, 512):\n",
    "    for depth in (2, 4, 6, 8, 10):\n",
    "        # DNN hyperparameters\n",
    "        hidden_units = [width] * depth\n",
    "        # i.e. the number of fine grid points:\n",
    "        logits = (ml.fine_grid_fineness.t + 1) * (ml.fine_grid_fineness.x + 1)\n",
    "        processor = ml.ScaleCenter()\n",
    "        activation = tf.nn.crelu\n",
    "\n",
    "        ### Training hyperparameters #1\n",
    "        drop_rate = 0.0\n",
    "        drop_type = 'dropout'\n",
    "        gradient_clip = 1.0  # May be set to None to turn off gradient clipping\n",
    "\n",
    "        ### Logging/saving hyperparameters\n",
    "        log_steps = 1000  # How many steps to print the current loss.\n",
    "        model_dir_base = './saved_models/grid_general/'\n",
    "        uuid = None\n",
    "        model_dir = ml.model_dir_str(model_dir_base, hidden_units, logits,\n",
    "                                     processor=processor, activation=activation, \n",
    "                                     uuid=uuid)\n",
    "\n",
    "        compile_kwargs = {'gradient_clip': gradient_clip,\n",
    "                          'processor': processor,\n",
    "                          'model_dir': model_dir}\n",
    "        dnn_factory = ml.DNNFactory(hidden_units, logits, drop_rate=drop_rate,\n",
    "                                    drop_type=drop_type, log_steps=log_steps, \n",
    "                                    activation=activation, batch_norm=False,\n",
    "                                    compile_kwargs=compile_kwargs)\n",
    "\n",
    "        max_steps = 0\n",
    "        if TRAIN:\n",
    "            gen_one_data = ml.GenSolutionOnGrid(fenics_from_save=True)\n",
    "\n",
    "            ### Training hyperparameters #2\n",
    "            batch_size = 32\n",
    "            max_steps += 5000\n",
    "            learning_rate = 0.001\n",
    "            with ml.BatchData.context(gen_one_data=gen_one_data, batch_size=batch_size) as train_input_fn:\n",
    "                dnn = dnn_factory(learning_rate=learning_rate)\n",
    "                dnn.train(input_fn=train_input_fn, max_steps=max_steps)\n",
    "\n",
    "            batch_size = 128\n",
    "            max_steps += 5000\n",
    "            learning_rate = 0.001\n",
    "            with ml.BatchData.context(gen_one_data=gen_one_data, batch_size=batch_size) as train_input_fn:\n",
    "                dnn = dnn_factory(learning_rate=learning_rate)\n",
    "                dnn.train(input_fn=train_input_fn, max_steps=max_steps)\n",
    "\n",
    "            batch_size = 128\n",
    "            max_steps += 3000\n",
    "            learning_rate = 0.0001\n",
    "            with ml.BatchData.context(gen_one_data=gen_one_data, batch_size=batch_size) as train_input_fn:\n",
    "                dnn = dnn_factory(learning_rate=learning_rate)\n",
    "                dnn.train(input_fn=train_input_fn, max_steps=max_steps)\n",
    "\n",
    "            batch_size = 128\n",
    "            max_steps += 2000\n",
    "            learning_rate = 0.00001\n",
    "            with ml.BatchData.context(gen_one_data=gen_one_data, batch_size=batch_size) as train_input_fn:\n",
    "                dnn = dnn_factory(learning_rate=learning_rate)\n",
    "                dnn.train(input_fn=train_input_fn, max_steps=max_steps)"
   ]
  }
 ],
 "metadata": {
  "kernelspec": {
   "display_name": "Python 3",
   "language": "python",
   "name": "python3"
  },
  "language_info": {
   "codemirror_mode": {
    "name": "ipython",
    "version": 3
   },
   "file_extension": ".py",
   "mimetype": "text/x-python",
   "name": "python",
   "nbconvert_exporter": "python",
   "pygments_lexer": "ipython3",
   "version": "3.6.6"
  }
 },
 "nbformat": 4,
 "nbformat_minor": 2
}
