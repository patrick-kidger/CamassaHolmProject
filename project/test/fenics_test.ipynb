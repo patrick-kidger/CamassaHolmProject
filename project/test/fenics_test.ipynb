{
 "cells": [
  {
   "cell_type": "code",
   "execution_count": null,
   "metadata": {},
   "outputs": [],
   "source": [
    "%run ../base/base_fenics.ipynb\n",
    "%run ../base/base_plot.ipynb"
   ]
  },
  {
   "cell_type": "code",
   "execution_count": null,
   "metadata": {},
   "outputs": [],
   "source": [
    "### Define Mesh sizes\n",
    "t, T = 0.0, 50  # start and end times\n",
    "a, b = 0, 40    # start and end spacial positions\n",
    "fineness_t = 0.01\n",
    "fineness_x = 0.01\n",
    "\n",
    "init1 = '2 / cosh(x[0] - 403.0/15.0) + 5 / cosh(x[0] - 203.0/15.0)'\n",
    "init2 = '0.2 * exp(-fabs(x[0] - 10)) + exp(-fabs(x[0] - 5))'"
   ]
  },
  {
   "cell_type": "code",
   "execution_count": null,
   "metadata": {},
   "outputs": [],
   "source": [
    "tvals, xvals, uvals = fenics_solve(init1, t, T, a, b, fineness_t, fineness_x)"
   ]
  },
  {
   "cell_type": "code",
   "execution_count": null,
   "metadata": {},
   "outputs": [],
   "source": [
    "plot_freq = 1\n",
    "step = round(plot_freq / fineness_t)\n",
    "over_plot(xvals, uvals, step)"
   ]
  }
 ],
 "metadata": {
  "kernelspec": {
   "display_name": "Python 3",
   "language": "python",
   "name": "python3"
  },
  "language_info": {
   "codemirror_mode": {
    "name": "ipython",
    "version": 3
   },
   "file_extension": ".py",
   "mimetype": "text/x-python",
   "name": "python",
   "nbconvert_exporter": "python",
   "pygments_lexer": "ipython3",
   "version": "3.6.6"
  }
 },
 "nbformat": 4,
 "nbformat_minor": 2
}
