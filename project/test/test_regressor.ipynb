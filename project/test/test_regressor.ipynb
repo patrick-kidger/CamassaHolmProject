{
 "cells": [
  {
   "cell_type": "code",
   "execution_count": 1,
   "metadata": {},
   "outputs": [],
   "source": [
    "%run base_test.ipynb\n",
    "\n",
    "from base import ml\n",
    "from base import plot"
   ]
  },
  {
   "cell_type": "code",
   "execution_count": 2,
   "metadata": {},
   "outputs": [],
   "source": [
    "model_dir = '../saved_models/grid_multi_peakon_dnn_hyperparameter_testing/800x2_121__ScaleCenter_crelu'\n",
    "dnn_factory = ml.dnn_factory_from_model_dir(model_dir)"
   ]
  },
  {
   "cell_type": "code",
   "execution_count": 3,
   "metadata": {},
   "outputs": [
    {
     "data": {
      "application/vnd.jupyter.widget-view+json": {
       "model_id": "89174d3cf9934bd6ad56388080a866d1",
       "version_major": 2,
       "version_minor": 0
      },
      "text/plain": [
       "FigureCanvasNbAgg()"
      ]
     },
     "metadata": {},
     "output_type": "display_data"
    },
    {
     "name": "stdout",
     "output_type": "stream",
     "text": [
      "INFO:tensorflow:Using config: {'_model_dir': '../saved_models/grid_multi_peakon_dnn_hyperparameter_testing/800x2_121__ScaleCenter_crelu', '_tf_random_seed': None, '_save_summary_steps': 100, '_save_checkpoints_steps': None, '_save_checkpoints_secs': 600, '_session_config': None, '_keep_checkpoint_max': 5, '_keep_checkpoint_every_n_hours': 10000, '_log_step_count_steps': 100, '_train_distribute': None, '_device_fn': None, '_service': None, '_cluster_spec': <tensorflow.python.training.server_lib.ClusterSpec object at 0x7fbd402fca20>, '_task_type': 'worker', '_task_id': 0, '_global_id_in_cluster': 0, '_master': '', '_evaluation_master': '', '_is_chief': True, '_num_ps_replicas': 0, '_num_worker_replicas': 1}\n",
      "INFO:tensorflow:Calling model_fn.\n",
      "INFO:tensorflow:Done calling model_fn.\n",
      "INFO:tensorflow:Graph was finalized.\n",
      "INFO:tensorflow:Restoring parameters from ../saved_models/grid_multi_peakon_dnn_hyperparameter_testing/800x2_121__ScaleCenter_crelu/model.ckpt-10000\n",
      "INFO:tensorflow:Running local_init_op.\n",
      "INFO:tensorflow:Done running local_init_op.\n"
     ]
    },
    {
     "data": {
      "text/plain": [
       "(0.0021592718349236167, 0.26498173150938187, 0.15486998443167865)"
      ]
     },
     "execution_count": 3,
     "metadata": {},
     "output_type": "execute_result"
    }
   ],
   "source": [
    "poly_deg = 10\n",
    "X, y = ml.gen_peakons_on_grid()\n",
    "results = plot.plot_reg_and_fac([ml.Perfect(),\n",
    "                                 dnn_factory,\n",
    "                                 ml.FineGridBilinearInterp(),\n",
    "                                 ml.FineGridPolyInterp(poly_deg=poly_deg)],\n",
    "                                ['Exact',\n",
    "                                 '800x2',\n",
    "                                 'Bilinear',\n",
    "                                 'Poly-{}'.format(poly_deg)],\n",
    "                                X,\n",
    "                                y)\n",
    "results[1].loss, results[2].loss, results[3].loss"
   ]
  }
 ],
 "metadata": {
  "kernelspec": {
   "display_name": "Python 3",
   "language": "python",
   "name": "python3"
  },
  "language_info": {
   "codemirror_mode": {
    "name": "ipython",
    "version": 3
   },
   "file_extension": ".py",
   "mimetype": "text/x-python",
   "name": "python",
   "nbconvert_exporter": "python",
   "pygments_lexer": "ipython3",
   "version": "3.6.6"
  }
 },
 "nbformat": 4,
 "nbformat_minor": 2
}
