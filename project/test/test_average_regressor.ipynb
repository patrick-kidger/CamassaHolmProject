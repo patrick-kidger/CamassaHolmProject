{
 "cells": [
  {
   "cell_type": "code",
   "execution_count": 1,
   "metadata": {},
   "outputs": [],
   "source": [
    "%run ../base/base_eq.ipynb\n",
    "%run ../base/base_plot.ipynb\n",
    "%run ../base/base_ml.ipynb"
   ]
  },
  {
   "cell_type": "code",
   "execution_count": 2,
   "metadata": {},
   "outputs": [],
   "source": [
    "class BilinearInterp(BilinearInterpMixin, FineGridInterpolator):\n",
    "    pass\n",
    "\n",
    "\n",
    "class PolyInterp(PolyInterpMixin, FineGridInterpolator):\n",
    "    pass"
   ]
  },
  {
   "cell_type": "code",
   "execution_count": 3,
   "metadata": {},
   "outputs": [],
   "source": [
    "def gen_one_peakon_on_grid():\n",
    "    \"\"\"Returns a (feature, label) pair, where the features are the values of\n",
    "    a single-peakon solution on a coarse grid, and the labels are the values of\n",
    "    the single-peakon solution on a fine grid.\n",
    "    \"\"\"\n",
    "    point, peakon = gen_one_peakon()\n",
    "    return sol_on_grid(point, peakon)\n",
    "\n",
    "def gen_two_peakon_on_grid():\n",
    "    \"\"\"Returns a (feature, label) pair, where the features are the values of\n",
    "    a two-peakon solution on a coarse grid, and the labels are the values of\n",
    "    the two-peakon solution on a fine grid.\n",
    "    \"\"\"\n",
    "    point, twopeakon = gen_two_peakon()\n",
    "    return sol_on_grid(point, twopeakon)\n",
    "\n",
    "def gen_one_data():\n",
    "    return tools.random_function(gen_one_peakon_on_grid, gen_two_peakon_on_grid)"
   ]
  },
  {
   "cell_type": "code",
   "execution_count": 12,
   "metadata": {},
   "outputs": [],
   "source": [
    "dnn_factories, names = dnn_factories_from_dir('../saved_models/grid_multi_peakon_dnn_hyperparameter_testing')"
   ]
  },
  {
   "cell_type": "code",
   "execution_count": 13,
   "metadata": {},
   "outputs": [
    {
     "data": {
      "application/vnd.jupyter.widget-view+json": {
       "model_id": "84d22fdebdc4437ab38af3e5df6cc9b6",
       "version_major": 2,
       "version_minor": 0
      },
      "text/plain": [
       "FigureCanvasNbAgg()"
      ]
     },
     "metadata": {},
     "output_type": "display_data"
    },
    {
     "name": "stdout",
     "output_type": "stream",
     "text": [
      "INFO:tensorflow:Using config: {'_model_dir': '../saved_models/grid_multi_peakon_dnn_hyperparameter_testing/400x2_121__ScaleCenter_crelu', '_tf_random_seed': None, '_save_summary_steps': 100, '_save_checkpoints_steps': None, '_save_checkpoints_secs': 600, '_session_config': None, '_keep_checkpoint_max': 5, '_keep_checkpoint_every_n_hours': 10000, '_log_step_count_steps': 100, '_train_distribute': None, '_device_fn': None, '_service': None, '_cluster_spec': <tensorflow.python.training.server_lib.ClusterSpec object at 0x7ff368782668>, '_task_type': 'worker', '_task_id': 0, '_global_id_in_cluster': 0, '_master': '', '_evaluation_master': '', '_is_chief': True, '_num_ps_replicas': 0, '_num_worker_replicas': 1}\n",
      "INFO:tensorflow:Calling model_fn.\n",
      "INFO:tensorflow:Done calling model_fn.\n",
      "INFO:tensorflow:Graph was finalized.\n",
      "INFO:tensorflow:Restoring parameters from ../saved_models/grid_multi_peakon_dnn_hyperparameter_testing/400x2_121__ScaleCenter_crelu/model.ckpt-10000\n",
      "INFO:tensorflow:Running local_init_op.\n",
      "INFO:tensorflow:Done running local_init_op.\n",
      "INFO:tensorflow:Using config: {'_model_dir': '../saved_models/grid_multi_peakon_dnn_hyperparameter_testing/400x4_121__ScaleCenter_crelu', '_tf_random_seed': None, '_save_summary_steps': 100, '_save_checkpoints_steps': None, '_save_checkpoints_secs': 600, '_session_config': None, '_keep_checkpoint_max': 5, '_keep_checkpoint_every_n_hours': 10000, '_log_step_count_steps': 100, '_train_distribute': None, '_device_fn': None, '_service': None, '_cluster_spec': <tensorflow.python.training.server_lib.ClusterSpec object at 0x7ff3599c6ac8>, '_task_type': 'worker', '_task_id': 0, '_global_id_in_cluster': 0, '_master': '', '_evaluation_master': '', '_is_chief': True, '_num_ps_replicas': 0, '_num_worker_replicas': 1}\n",
      "INFO:tensorflow:Calling model_fn.\n",
      "INFO:tensorflow:Done calling model_fn.\n",
      "INFO:tensorflow:Graph was finalized.\n",
      "INFO:tensorflow:Restoring parameters from ../saved_models/grid_multi_peakon_dnn_hyperparameter_testing/400x4_121__ScaleCenter_crelu/model.ckpt-6486\n",
      "INFO:tensorflow:Running local_init_op.\n",
      "INFO:tensorflow:Done running local_init_op.\n"
     ]
    },
    {
     "data": {
      "text/plain": [
       "(0.6862177451729967, 2.573150812009853, 2.3614806366023484)"
      ]
     },
     "execution_count": 13,
     "metadata": {},
     "output_type": "execute_result"
    }
   ],
   "source": [
    "poly_deg = 10\n",
    "average_reg = RegressorAverager(dnn_factories)\n",
    "X, y = gen_one_peakon_on_grid()\n",
    "results = plot_regressors([RegressorFactory(Perfect()),\n",
    "                           RegressorFactory(average_reg),\n",
    "                           RegressorFactory(BilinearInterp()),\n",
    "                           RegressorFactory(PolyInterp(poly_deg=poly_deg))],\n",
    "                          ['Exact',\n",
    "                           'RegressorAverager',\n",
    "                           'Bilinear',\n",
    "                           'Poly-{}'.format(poly_deg)],\n",
    "                          X,\n",
    "                          y)\n",
    "results[1].loss, results[2].loss, results[3].loss"
   ]
  },
  {
   "cell_type": "code",
   "execution_count": null,
   "metadata": {},
   "outputs": [],
   "source": []
  }
 ],
 "metadata": {
  "kernelspec": {
   "display_name": "Python 3",
   "language": "python",
   "name": "python3"
  },
  "language_info": {
   "codemirror_mode": {
    "name": "ipython",
    "version": 3
   },
   "file_extension": ".py",
   "mimetype": "text/x-python",
   "name": "python",
   "nbconvert_exporter": "python",
   "pygments_lexer": "ipython3",
   "version": "3.6.6"
  }
 },
 "nbformat": 4,
 "nbformat_minor": 2
}
