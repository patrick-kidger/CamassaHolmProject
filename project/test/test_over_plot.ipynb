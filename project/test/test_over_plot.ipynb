{
 "cells": [
  {
   "cell_type": "code",
   "execution_count": 1,
   "metadata": {},
   "outputs": [
    {
     "data": {
      "text/plain": [
       "\"Tests plotting so-called 'over plots'.\""
      ]
     },
     "execution_count": 1,
     "metadata": {},
     "output_type": "execute_result"
    }
   ],
   "source": [
    "\"\"\"Tests plotting so-called 'over plots'.\"\"\""
   ]
  },
  {
   "cell_type": "code",
   "execution_count": 2,
   "metadata": {},
   "outputs": [],
   "source": [
    "%run base_test.ipynb\n",
    "\n",
    "import numpy as np\n",
    "\n",
    "from base import fenics as fc\n",
    "from base import ml\n",
    "from base import plot"
   ]
  },
  {
   "cell_type": "code",
   "execution_count": 3,
   "metadata": {},
   "outputs": [],
   "source": [
    "# p1 = np.random.uniform(3, 10)\n",
    "# p2 = np.random.uniform(3, 10)\n",
    "# x1 = np.random.uniform(0, 3)\n",
    "# x2 = np.random.uniform(3.001, 6)\n",
    "# twopeakon = ml.TwoPeakon(x1, x2, p1, p2)"
   ]
  },
  {
   "cell_type": "code",
   "execution_count": 12,
   "metadata": {},
   "outputs": [],
   "source": [
    "t, T = 0.0, 10  # start and end times\n",
    "a, b = 0, 20    # start and end spacial positions\n",
    "fineness_t = 0.001\n",
    "fineness_x = 0.001\n",
    "nx = round((b - a) / fineness_x)\n",
    "nt = round((T - t) / fineness_t)"
   ]
  },
  {
   "cell_type": "code",
   "execution_count": null,
   "metadata": {},
   "outputs": [],
   "source": [
    "solution = fc.FenicsSolution('exp(-pow(x[0] - 5, 2))', t=t, T=T, a=a, b=b, \n",
    "                             fineness_t=fineness_t, fineness_x=fineness_x)"
   ]
  },
  {
   "cell_type": "code",
   "execution_count": null,
   "metadata": {},
   "outputs": [],
   "source": [
    "tvals = np.linspace(t, T, nt + 1)\n",
    "xvals = np.linspace(a, b, nx + 1)\n",
    "uvals = solution.on_vals(tvals, xvals)"
   ]
  },
  {
   "cell_type": "code",
   "execution_count": null,
   "metadata": {},
   "outputs": [],
   "source": [
    "plot.over_plot(xvals, uvals, step=100, offset=0.01)"
   ]
  }
 ],
 "metadata": {
  "kernelspec": {
   "display_name": "Python 3",
   "language": "python",
   "name": "python3"
  },
  "language_info": {
   "codemirror_mode": {
    "name": "ipython",
    "version": 3
   },
   "file_extension": ".py",
   "mimetype": "text/x-python",
   "name": "python",
   "nbconvert_exporter": "python",
   "pygments_lexer": "ipython3",
   "version": "3.6.6"
  }
 },
 "nbformat": 4,
 "nbformat_minor": 2
}
