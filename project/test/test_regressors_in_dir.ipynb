{
 "cells": [
  {
   "cell_type": "code",
   "execution_count": 1,
   "metadata": {},
   "outputs": [],
   "source": [
    "%run ../base/base_eq.ipynb\n",
    "%run ../base/base_plot.ipynb\n",
    "%run ../base/base_ml.ipynb"
   ]
  },
  {
   "cell_type": "code",
   "execution_count": 2,
   "metadata": {},
   "outputs": [],
   "source": [
    "class BilinearInterp(FineGridPredictorMixin, BilinearInterpBase):\n",
    "    pass\n",
    "\n",
    "\n",
    "class PolyInterp(FineGridPredictorMixin, PolyInterpBase):\n",
    "    pass"
   ]
  },
  {
   "cell_type": "code",
   "execution_count": 3,
   "metadata": {},
   "outputs": [],
   "source": [
    "def gen_one_peakon_on_grid():\n",
    "    \"\"\"Returns a (feature, label) pair, where the features are the values of\n",
    "    a single-peakon solution on a coarse grid, and the labels are the values of\n",
    "    the single-peakon solution on a fine grid.\n",
    "    \"\"\"\n",
    "    point, peakon = gen_one_peakon()\n",
    "    return sol_on_grid(point, peakon)\n",
    "\n",
    "def gen_two_peakon_on_grid():\n",
    "    \"\"\"Returns a (feature, label) pair, where the features are the values of\n",
    "    a two-peakon solution on a coarse grid, and the labels are the values of\n",
    "    the two-peakon solution on a fine grid.\n",
    "    \"\"\"\n",
    "    point, twopeakon = gen_two_peakon()\n",
    "    return sol_on_grid(point, twopeakon)\n",
    "\n",
    "def gen_one_data():\n",
    "    return tools.random_function(gen_one_peakon_on_grid, gen_two_peakon_on_grid)"
   ]
  },
  {
   "cell_type": "code",
   "execution_count": 8,
   "metadata": {},
   "outputs": [
    {
     "name": "stdout",
     "output_type": "stream",
     "text": [
      "WARNING:tensorflow:Excluding '.ipynb_checkpoints' based on start.\n",
      "WARNING:tensorflow:Excluding '1000x10_121_D04_ScaleDataByBatch_relu' based on containment.\n",
      "WARNING:tensorflow:Excluding '1000x10_121_D04_ScaleDataByBatch_relu_DUP1' based on containment.\n",
      "WARNING:tensorflow:Excluding '1000x10_121_D04_ScaleDataByBatch_relu_DUP2' based on containment.\n",
      "WARNING:tensorflow:Excluding '1500x10_121_D04_ScaleDataByBatch_relu' based on containment.\n",
      "WARNING:tensorflow:Excluding '1500x10_121_D04_ScaleDataByBatch_relu_DUP1' based on containment.\n",
      "WARNING:tensorflow:Could not load DNN from '1500x10_121_D04_ScaleDataOverall_relu'. Error message: '[Errno 2] No such file or directory: '../saved_models/grid_single_peakon/1500x10_121_D04_ScaleDataOverall_relu/processor-checkpoint''\n",
      "INFO:tensorflow:Processor checkpoint file found, restoring values.\n",
      "WARNING:tensorflow:Using temporary folder as model directory: /tmp/tmpfcii4v0k\n",
      "INFO:tensorflow:Using config: {'_model_dir': '/tmp/tmpfcii4v0k', '_tf_random_seed': None, '_save_summary_steps': 100, '_save_checkpoints_steps': None, '_save_checkpoints_secs': 600, '_session_config': None, '_keep_checkpoint_max': 5, '_keep_checkpoint_every_n_hours': 10000, '_log_step_count_steps': 100, '_train_distribute': None, '_device_fn': None, '_service': None, '_cluster_spec': <tensorflow.python.training.server_lib.ClusterSpec object at 0x7f1cf5b950f0>, '_task_type': 'worker', '_task_id': 0, '_global_id_in_cluster': 0, '_master': '', '_evaluation_master': '', '_is_chief': True, '_num_ps_replicas': 0, '_num_worker_replicas': 1}\n",
      "INFO:tensorflow:Processor checkpoint file found, restoring values.\n",
      "WARNING:tensorflow:Using temporary folder as model directory: /tmp/tmpfqml29jg\n",
      "INFO:tensorflow:Using config: {'_model_dir': '/tmp/tmpfqml29jg', '_tf_random_seed': None, '_save_summary_steps': 100, '_save_checkpoints_steps': None, '_save_checkpoints_secs': 600, '_session_config': None, '_keep_checkpoint_max': 5, '_keep_checkpoint_every_n_hours': 10000, '_log_step_count_steps': 100, '_train_distribute': None, '_device_fn': None, '_service': None, '_cluster_spec': <tensorflow.python.training.server_lib.ClusterSpec object at 0x7f1cf5b954a8>, '_task_type': 'worker', '_task_id': 0, '_global_id_in_cluster': 0, '_master': '', '_evaluation_master': '', '_is_chief': True, '_num_ps_replicas': 0, '_num_worker_replicas': 1}\n"
     ]
    }
   ],
   "source": [
    "dnns_pros = create_dnns_pros_from_dir('../saved_models/grid_single_peakon', exclude_in=('ScaleDataByBatch',))"
   ]
  },
  {
   "cell_type": "code",
   "execution_count": 10,
   "metadata": {},
   "outputs": [
    {
     "data": {
      "application/vnd.jupyter.widget-view+json": {
       "model_id": "ac065b2a8d3f43db93dc269cdf1685df",
       "version_major": 2,
       "version_minor": 0
      },
      "text/plain": [
       "FigureCanvasNbAgg()"
      ]
     },
     "metadata": {},
     "output_type": "display_data"
    },
    {
     "name": "stdout",
     "output_type": "stream",
     "text": [
      "INFO:tensorflow:Could not find trained model in model_dir: /tmp/tmpfcii4v0k, running initialization to predict.\n",
      "WARNING:tensorflow:Input graph does not use tf.data.Dataset or contain a QueueRunner. That means predict yields forever. This is probably a mistake.\n",
      "INFO:tensorflow:Calling model_fn.\n",
      "INFO:tensorflow:Done calling model_fn.\n",
      "INFO:tensorflow:Graph was finalized.\n",
      "INFO:tensorflow:Running local_init_op.\n",
      "INFO:tensorflow:Done running local_init_op.\n",
      "INFO:tensorflow:Could not find trained model in model_dir: /tmp/tmpfqml29jg, running initialization to predict.\n",
      "WARNING:tensorflow:Input graph does not use tf.data.Dataset or contain a QueueRunner. That means predict yields forever. This is probably a mistake.\n",
      "INFO:tensorflow:Calling model_fn.\n",
      "INFO:tensorflow:Done calling model_fn.\n",
      "INFO:tensorflow:Graph was finalized.\n",
      "INFO:tensorflow:Running local_init_op.\n",
      "INFO:tensorflow:Done running local_init_op.\n"
     ]
    },
    {
     "data": {
      "text/plain": [
       "(24953.583535671627,)"
      ]
     },
     "execution_count": 10,
     "metadata": {},
     "output_type": "execute_result"
    }
   ],
   "source": [
    "X, y = gen_one_peakon_on_grid()\n",
    "dnns_pros_with_name = tuple((dnn, pro, str(i)) for i, (dnn, pro) in enumerate(dnns_pros))\n",
    "results = plot_regressors([(Perfect(), None, 'Exact'),\n",
    "                           *dnns_pros_with_name],\n",
    "                          X_peak,\n",
    "                          y_peak)\n",
    "tuple(results[i].loss for i in range(1, len(dnns_pros)))"
   ]
  },
  {
   "cell_type": "code",
   "execution_count": null,
   "metadata": {},
   "outputs": [],
   "source": []
  }
 ],
 "metadata": {
  "kernelspec": {
   "display_name": "Python 3",
   "language": "python",
   "name": "python3"
  },
  "language_info": {
   "codemirror_mode": {
    "name": "ipython",
    "version": 3
   },
   "file_extension": ".py",
   "mimetype": "text/x-python",
   "name": "python",
   "nbconvert_exporter": "python",
   "pygments_lexer": "ipython3",
   "version": "3.6.6"
  }
 },
 "nbformat": 4,
 "nbformat_minor": 2
}
