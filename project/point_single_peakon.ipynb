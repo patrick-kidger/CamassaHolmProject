{
 "cells": [
  {
   "cell_type": "code",
   "execution_count": 1,
   "metadata": {},
   "outputs": [],
   "source": [
    "# Given the values of a single peakon on a coarse grid, this DNN predicts the value of the peakon at a particular location.\n",
    "# Essentially, given the values shown by the @ and G symbols, and a location within the ... region, it will output its\n",
    "# prediction for the value at that location.\n",
    "# (In terms of the gen_one_data function below, then (t, x) is the location of the G symbol and (t2, x2) is the random\n",
    "# location within the ... region.)\n",
    "#\n",
    "#\n",
    "# @   @   @   @   @   @\n",
    "#\n",
    "#\n",
    "#\n",
    "# @   @   @   @   @   @\n",
    "#\n",
    "#       .........\n",
    "#       .       .\n",
    "# @   @ . @   @ . @   @\n",
    "#       .       .\n",
    "#       .       .\n",
    "#       .       .\n",
    "# @   @ . G   @ . @   @\n",
    "#       .       .\n",
    "#       .........\n",
    "#\n",
    "# @   @   @   @   @   @\n",
    "#\n",
    "#\n",
    "#\n",
    "# @   @   @   @   @   @"
   ]
  },
  {
   "cell_type": "code",
   "execution_count": 2,
   "metadata": {},
   "outputs": [],
   "source": [
    "%run base/base_eq.ipynb\n",
    "%run base/base_plot.ipynb\n",
    "%run base/base_ml.ipynb"
   ]
  },
  {
   "cell_type": "code",
   "execution_count": 3,
   "metadata": {},
   "outputs": [],
   "source": [
    "# Set to False to use existing weights for the neural network.\n",
    "# Set to True to continue training the weights from where we left off last time.\n",
    "TRAIN = True"
   ]
  },
  {
   "cell_type": "code",
   "execution_count": null,
   "metadata": {},
   "outputs": [],
   "source": [
    "class AtPointMixin(Processor):\n",
    "    \"\"\"Adapts the Processor transforms to only act on the [:-2] elements of\n",
    "    X; i.e. omitting the extra (t, x) pair that is given to it.\n",
    "    \"\"\"\n",
    "    def transform(self, X, y):\n",
    "        X[:-2], y = super(ScaleDataOverallPoint, self).transform(X[:-2], y)\n",
    "        return X, y\n",
    "    \n",
    "    \n",
    "class ScaleOverallAtPoint(AtPointMixin, ScaleOverall):\n",
    "    pass\n",
    "   \n",
    "    \n",
    "class NormalisationOverallAtPoint(AtPointMixin, NormalisationOverall):\n",
    "    pass"
   ]
  },
  {
   "cell_type": "code",
   "execution_count": null,
   "metadata": {},
   "outputs": [],
   "source": [
    "def gen_one_peakon_at_point():\n",
    "    \"\"\"Returns a (feature, label) pair, where the features are the values of\n",
    "    a single-peakon solution on a coarse grid, and a particular point, and the \n",
    "    label is the value of the single-peakon solution at that particular point.\n",
    "    \"\"\"\n",
    "    point, peakon = gen_one_peakon()\n",
    "    return sol_at_point(point, peakon)"
   ]
  },
  {
   "cell_type": "code",
   "execution_count": 5,
   "metadata": {},
   "outputs": [],
   "source": [
    "### DNN hyperparameters\n",
    "hidden_units = [800] * 6\n",
    "# i.e. the number of fine grid points.\n",
    "logits = (fine_grid_fineness.t + 1) * (fine_grid_fineness.x + 1)\n",
    "preprocessor = NormalisationOverallAtPoint(momentum=0.999)\n",
    "activation=tf.nn.crelu\n",
    "\n",
    "### Training hyperparameters #1\n",
    "gradient_clip = 1.0  # May be set to None to turn off gradient clipping\n",
    "drop_rate = 0.0\n",
    "drop_type = 'dropout'\n",
    "\n",
    "### Logging/saving hyperparameters\n",
    "log_steps = 1000  # How many steps to print the current loss.\n",
    "model_dir_base = './saved_models/point_single_peakon/'\n",
    "uuid = None\n",
    "model_dir = model_dir_str(model_dir_base, hidden_units, logits, \n",
    "                          preprocessor=preprocessor, activation=activation, \n",
    "                          uuid=uuid)\n",
    "\n",
    "dnn = create_dnn(hidden_units, logits, drop_rate=drop_rate,\n",
    "                 drop_type=drop_type, model_dir=model_dir, \n",
    "                 log_steps=log_steps, activation=activation, \n",
    "                 gradient_clip=gradient_clip, batch_norm=False)\n",
    "preprocessor.load(model_dir)\n",
    "\n",
    "max_steps = 0\n",
    "if TRAIN:\n",
    "    ### Training hyperparameters #2\n",
    "    batch_size = 500\n",
    "    max_steps += 5000\n",
    "    train_input_fn = preprocessor.data(BatchData(gen_one_data=gen_one_data, batch_size=batch_size))\n",
    "    dnn = dnn_creator()\n",
    "    dnn.train(input_fn=train_input_fn(use_tf=True), max_steps=max_steps, \n",
    "              hooks=[ProcessorSavingHook(preprocessor, model_dir)])\n",
    "\n",
    "    batch_size = 1000\n",
    "    max_steps += 5000\n",
    "    train_input_fn = preprocessor.data(BatchData(gen_one_data=gen_one_data, batch_size=batch_size))\n",
    "    dnn = dnn_creator()\n",
    "    dnn.train(input_fn=train_input_fn(use_tf=True), max_steps=max_steps, \n",
    "              hooks=[ProcessorSavingHook(preprocessor, model_dir)])\n",
    "\n",
    "    batch_size = 3000\n",
    "    max_steps += 10000\n",
    "    train_input_fn = preprocessor.data(BatchData(gen_one_data=gen_one_data, batch_size=batch_size))\n",
    "    dnn = dnn_creator()\n",
    "    dnn.train(input_fn=train_input_fn(use_tf=True), max_steps=max_steps, \n",
    "              hooks=[ProcessorSavingHook(preprocessor, model_dir)])"
   ]
  }
 ],
 "metadata": {
  "kernelspec": {
   "display_name": "Python 3",
   "language": "python",
   "name": "python3"
  },
  "language_info": {
   "codemirror_mode": {
    "name": "ipython",
    "version": 3
   },
   "file_extension": ".py",
   "mimetype": "text/x-python",
   "name": "python",
   "nbconvert_exporter": "python",
   "pygments_lexer": "ipython3",
   "version": "3.6.6"
  }
 },
 "nbformat": 4,
 "nbformat_minor": 2
}
