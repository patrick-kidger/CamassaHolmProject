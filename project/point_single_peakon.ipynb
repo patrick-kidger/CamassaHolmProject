{
 "cells": [
  {
   "cell_type": "code",
   "execution_count": 1,
   "metadata": {},
   "outputs": [],
   "source": [
    "# Given the values of a single peakon on a coarse grid, this DNN predicts the value of the peakon at a particular location.\n",
    "# Essentially, given the values shown by the @ and G symbols, and a location within the ... region, it will output its\n",
    "# prediction for the value at that location.\n",
    "# (In terms of the gen_one_data function below, then (t, x) is the location of the G symbol and (t2, x2) is the random\n",
    "# location within the ... region.)\n",
    "#\n",
    "#\n",
    "# @   @   @   @   @   @\n",
    "#\n",
    "#\n",
    "#\n",
    "# @   @   @   @   @   @\n",
    "#\n",
    "#       .........\n",
    "#       .       .\n",
    "# @   @ . @   @ . @   @\n",
    "#       .       .\n",
    "#       .       .\n",
    "#       .       .\n",
    "# @   @ . G   @ . @   @\n",
    "#       .       .\n",
    "#       .........\n",
    "#\n",
    "# @   @   @   @   @   @\n",
    "#\n",
    "#\n",
    "#\n",
    "# @   @   @   @   @   @"
   ]
  },
  {
   "cell_type": "code",
   "execution_count": 2,
   "metadata": {},
   "outputs": [],
   "source": [
    "%run base/base_eq.ipynb\n",
    "%run base/base_plot.ipynb\n",
    "%run base/base_ml.ipynb"
   ]
  },
  {
   "cell_type": "code",
   "execution_count": 3,
   "metadata": {},
   "outputs": [],
   "source": [
    "# Set to False to use existing weights for the neural network.\n",
    "# Set to True to continue training the weights from where we left off last time.\n",
    "TRAIN = True"
   ]
  },
  {
   "cell_type": "code",
   "execution_count": 4,
   "metadata": {},
   "outputs": [],
   "source": [
    "class BilinearInterp(PointPredictorMixin, BilinearInterpBase):\n",
    "    pass"
   ]
  },
  {
   "cell_type": "code",
   "execution_count": null,
   "metadata": {},
   "outputs": [],
   "source": [
    "def gen_one_peakon_at_point():\n",
    "    \"\"\"Returns a (feature, label) pair, where the features are the values of\n",
    "    a single-peakon solution on a coarse grid, and a particular point, and the \n",
    "    label is the value of the single-peakon solution at that particular point.\n",
    "    \"\"\"\n",
    "    point, peakon = gen_one_peakon()\n",
    "    return sol_at_point(point, peakon)"
   ]
  },
  {
   "cell_type": "code",
   "execution_count": 5,
   "metadata": {},
   "outputs": [],
   "source": [
    "### DNN hyperparameters\n",
    "hidden_units = [1000] * 20\n",
    "# i.e. the number of fine grid points.\n",
    "logits = (fine_grid_fineness.t + 1) * (fine_grid_fineness.x + 1)\n",
    "drop_rate = 0.4\n",
    "drop_type = 'dropout'\n",
    "preprocessor = ScaleDataOverall(momentum=0.999)\n",
    "activation=tf.nn.elu\n",
    "uuid = None\n",
    "\n",
    "### Training hyperparameters #1\n",
    "gradient_clip = 5.0  # May be set to None to turn off gradient clipping\n",
    "\n",
    "### Logging/saving hyperparameters\n",
    "log_steps = 1000  # How many steps to print the current loss.\n",
    "model_dir_base = './saved_models/point_single_peakon/'\n",
    "model_dir = model_dir_str(model_dir_base, hidden_units, logits, \n",
    "                          drop_rate=drop_rate, drop_type=drop_type,\n",
    "                          preprocessor=preprocessor, activation=activation, \n",
    "                          uuid=uuid)\n",
    "\n",
    "dnn = create_dnn(hidden_units, logits, drop_rate=drop_rate,\n",
    "                 drop_type=drop_type, model_dir=model_dir, \n",
    "                 log_steps=log_steps, activation=activation, \n",
    "                 gradient_clip=gradient_clip, batch_norm=False)\n",
    "preprocessor.load(model_dir)"
   ]
  },
  {
   "cell_type": "code",
   "execution_count": 8,
   "metadata": {},
   "outputs": [
    {
     "name": "stdout",
     "output_type": "stream",
     "text": [
      "INFO:tensorflow:Calling model_fn.\n",
      "INFO:tensorflow:Done calling model_fn.\n",
      "INFO:tensorflow:Create CheckpointSaverHook.\n",
      "INFO:tensorflow:Graph was finalized.\n",
      "INFO:tensorflow:Restoring parameters from ./saved_models/second_reg/500_500_500_500_500_300_300_300_300_300_1_D04_BS500_BR1/model.ckpt-14619\n",
      "INFO:tensorflow:Running local_init_op.\n",
      "INFO:tensorflow:Done running local_init_op.\n",
      "INFO:tensorflow:Saving checkpoints for 14620 into ./saved_models/second_reg/500_500_500_500_500_300_300_300_300_300_1_D04_BS500_BR1/model.ckpt.\n",
      "INFO:tensorflow:loss = 0.11425025, step = 14620\n",
      "INFO:tensorflow:Saving checkpoints for 15395 into ./saved_models/second_reg/500_500_500_500_500_300_300_300_300_300_1_D04_BS500_BR1/model.ckpt.\n",
      "INFO:tensorflow:global_step/sec: 1.28837\n",
      "INFO:tensorflow:loss = 0.11744919, step = 15620 (776.179 sec)\n",
      "INFO:tensorflow:Saving checkpoints for 16160 into ./saved_models/second_reg/500_500_500_500_500_300_300_300_300_300_1_D04_BS500_BR1/model.ckpt.\n",
      "INFO:tensorflow:global_step/sec: 1.27548\n",
      "INFO:tensorflow:loss = 0.07364414, step = 16620 (784.017 sec)\n",
      "INFO:tensorflow:Saving checkpoints for 16927 into ./saved_models/second_reg/500_500_500_500_500_300_300_300_300_300_1_D04_BS500_BR1/model.ckpt.\n",
      "INFO:tensorflow:global_step/sec: 1.27175\n",
      "INFO:tensorflow:loss = 0.076945916, step = 17620 (786.315 sec)\n",
      "INFO:tensorflow:Saving checkpoints for 17690 into ./saved_models/second_reg/500_500_500_500_500_300_300_300_300_300_1_D04_BS500_BR1/model.ckpt.\n",
      "INFO:tensorflow:Saving checkpoints for 18452 into ./saved_models/second_reg/500_500_500_500_500_300_300_300_300_300_1_D04_BS500_BR1/model.ckpt.\n",
      "INFO:tensorflow:global_step/sec: 1.27054\n",
      "INFO:tensorflow:loss = 0.09225228, step = 18620 (787.066 sec)\n",
      "INFO:tensorflow:Saving checkpoints for 19207 into ./saved_models/second_reg/500_500_500_500_500_300_300_300_300_300_1_D04_BS500_BR1/model.ckpt.\n",
      "INFO:tensorflow:global_step/sec: 1.2339\n",
      "INFO:tensorflow:loss = 0.09775181, step = 19620 (810.441 sec)\n",
      "INFO:tensorflow:Saving checkpoints for 19935 into ./saved_models/second_reg/500_500_500_500_500_300_300_300_300_300_1_D04_BS500_BR1/model.ckpt.\n",
      "INFO:tensorflow:Saving checkpoints for 20000 into ./saved_models/second_reg/500_500_500_500_500_300_300_300_300_300_1_D04_BS500_BR1/model.ckpt.\n",
      "INFO:tensorflow:Loss for final step: 0.07440508.\n"
     ]
    }
   ],
   "source": [
    "if TRAIN:\n",
    "    ### Training hyperparameters #2\n",
    "    batch_size = 30\n",
    "    steps = 3000\n",
    "    train_input_fn = preprocessor.data(BatchData(gen_one_data=gen_one_peakon_at_point, batch_size=batch_size))\n",
    "    dnn.train(input_fn=train_input_fn(use_tf=True), max_steps=steps, \n",
    "              hooks=[ProcessorSavingHook(preprocessor, model_dir)])\n",
    "    \n",
    "    batch_size = 300\n",
    "    steps = 6000\n",
    "    train_input_fn = preprocessor.data(BatchData(gen_one_data=gen_one_peakon_at_point, batch_size=batch_size))\n",
    "    dnn.train(input_fn=train_input_fn(use_tf=True), max_steps=steps, \n",
    "              hooks=[ProcessorSavingHook(preprocessor, model_dir)])\n",
    "    \n",
    "    batch_size = 1000\n",
    "    steps = 12000\n",
    "    train_input_fn = preprocessor.data(BatchData(gen_one_data=gen_one_peakon_at_point, batch_size=batch_size))\n",
    "    dnn.train(input_fn=train_input_fn(use_tf=True), max_steps=steps, \n",
    "              hooks=[ProcessorSavingHook(preprocessor, model_dir)])"
   ]
  }
 ],
 "metadata": {
  "kernelspec": {
   "display_name": "Python 3",
   "language": "python",
   "name": "python3"
  },
  "language_info": {
   "codemirror_mode": {
    "name": "ipython",
    "version": 3
   },
   "file_extension": ".py",
   "mimetype": "text/x-python",
   "name": "python",
   "nbconvert_exporter": "python",
   "pygments_lexer": "ipython3",
   "version": "3.6.6"
  }
 },
 "nbformat": 4,
 "nbformat_minor": 2
}
