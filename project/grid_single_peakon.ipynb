{
 "cells": [
  {
   "cell_type": "code",
   "execution_count": 1,
   "metadata": {},
   "outputs": [],
   "source": [
    "# Given the values of a single peakon on a coarse grid, this DNN finds the\n",
    "# values of the peakon on a finer grid.\n",
    "# Essentially, given the values shown by the @ symbols, it will output its \n",
    "# predictions for the values of the . symbols (and the four @ symbols bounding\n",
    "# them).\n",
    "#\n",
    "#\n",
    "# @   @   @   @   @   @\n",
    "#\n",
    "#\n",
    "#\n",
    "# @   @   @   @   @   @\n",
    "#\n",
    "#\n",
    "#\n",
    "# @   @   @...@   @   @\n",
    "#         .....\n",
    "#         .....\n",
    "#         .....\n",
    "# @   @   @...@   @   @\n",
    "#\n",
    "#\n",
    "#\n",
    "# @   @   @   @   @   @\n",
    "#\n",
    "#\n",
    "#\n",
    "# @   @   @   @   @   @"
   ]
  },
  {
   "cell_type": "code",
   "execution_count": 2,
   "metadata": {},
   "outputs": [],
   "source": [
    "%run base/base_eq.ipynb\n",
    "%run base/base_plot.ipynb\n",
    "%run base/base_ml.ipynb"
   ]
  },
  {
   "cell_type": "code",
   "execution_count": 3,
   "metadata": {},
   "outputs": [],
   "source": [
    "# Set to False to use existing weights for the neural network.\n",
    "# Set to True to continue training the weights from where we left off last time.\n",
    "TRAIN = False"
   ]
  },
  {
   "cell_type": "code",
   "execution_count": 4,
   "metadata": {},
   "outputs": [],
   "source": [
    "class BilinearInterp(FineGridPredictorMixin, BilinearInterpBase):\n",
    "    pass\n",
    "\n",
    "\n",
    "class PolyInterp(FineGridPredictorMixin, PolyInterpBase):\n",
    "    pass"
   ]
  },
  {
   "cell_type": "code",
   "execution_count": 5,
   "metadata": {},
   "outputs": [],
   "source": [
    "def gen_one_peakon_on_grid():\n",
    "    \"\"\"Returns a (feature, label) pair, where the features are the values of\n",
    "    a single-peakon solution on a coarse grid, and the labels are the values of\n",
    "    the single-peakon solution on a fine grid.\n",
    "    \"\"\"\n",
    "    point, peakon = gen_one_peakon()\n",
    "    return sol_on_grid(point, peakon)"
   ]
  },
  {
   "cell_type": "code",
   "execution_count": 15,
   "metadata": {},
   "outputs": [
    {
     "name": "stdout",
     "output_type": "stream",
     "text": [
      "INFO:tensorflow:Using config: {'_model_dir': './saved_models/grid_single_peakon/2000x10_121_D04_ScaleDataOverall_relu', '_tf_random_seed': None, '_save_summary_steps': 100, '_save_checkpoints_steps': None, '_save_checkpoints_secs': 600, '_session_config': None, '_keep_checkpoint_max': 5, '_keep_checkpoint_every_n_hours': 10000, '_log_step_count_steps': 500, '_train_distribute': None, '_device_fn': None, '_service': None, '_cluster_spec': <tensorflow.python.training.server_lib.ClusterSpec object at 0x7f2cbd6c97b8>, '_task_type': 'worker', '_task_id': 0, '_global_id_in_cluster': 0, '_master': '', '_evaluation_master': '', '_is_chief': True, '_num_ps_replicas': 0, '_num_worker_replicas': 1}\n",
      "INFO:tensorflow:Processor checkpoint file found, restoring values.\n"
     ]
    }
   ],
   "source": [
    "### DNN hyperparameters\n",
    "hidden_units = [2000] * 10\n",
    "# i.e. the number of fine grid points.\n",
    "logits = (fine_grid_fineness.t + 1) * (fine_grid_fineness.x + 1)\n",
    "drop_rate = 0.4\n",
    "drop_type = 'dropout'\n",
    "preprocessor = ScaleDataOverall()\n",
    "activation = tf.nn.relu\n",
    "uuid = None\n",
    "\n",
    "### Training hyperparameters #1\n",
    "gradient_clip = 5.0  # May be set to None to turn off gradient clipping\n",
    "\n",
    "### Logging/saving hyperparameters\n",
    "log_steps = 500  # How many steps to print the current loss.\n",
    "model_dir_base = './saved_models/grid_single_peakon/'\n",
    "model_dir = model_dir_str(model_dir_base, hidden_units, logits, \n",
    "                          drop_rate=drop_rate, drop_type=drop_type,\n",
    "                          preprocessor=preprocessor, activation=activation, \n",
    "                          uuid=uuid)\n",
    "\n",
    "dnn = create_dnn(hidden_units, logits, drop_rate=drop_rate,\n",
    "                 drop_type=drop_type, model_dir=model_dir, \n",
    "                 log_steps=log_steps, activation=activation, \n",
    "                 gradient_clip=gradient_clip, batch_norm=False)\n",
    "preprocessor.load(model_dir)"
   ]
  },
  {
   "cell_type": "code",
   "execution_count": 16,
   "metadata": {},
   "outputs": [],
   "source": [
    "if TRAIN:\n",
    "    ### Training hyperparameters #2\n",
    "    batch_size = 30\n",
    "    steps = 3000\n",
    "    train_input_fn = preprocessor.data(BatchData(gen_one_data=gen_one_peakon_on_grid, batch_size=batch_size))\n",
    "    dnn.train(input_fn=train_input_fn(use_tf=True), max_steps=steps, \n",
    "              hooks=[ProcessorSavingHook(preprocessor, model_dir)])\n",
    "    \n",
    "    batch_size = 300\n",
    "    steps = 6000\n",
    "    train_input_fn = preprocessor.data(BatchData(gen_one_data=gen_one_peakon_on_grid, batch_size=batch_size))\n",
    "    dnn.train(input_fn=train_input_fn(use_tf=True), max_steps=steps, \n",
    "              hooks=[ProcessorSavingHook(preprocessor, model_dir)])"
   ]
  },
  {
   "cell_type": "code",
   "execution_count": 17,
   "metadata": {},
   "outputs": [
    {
     "data": {
      "application/vnd.jupyter.widget-view+json": {
       "model_id": "95a3f8ccc0ec4f7b977b64060de3073a",
       "version_major": 2,
       "version_minor": 0
      },
      "text/plain": [
       "FigureCanvasNbAgg()"
      ]
     },
     "metadata": {},
     "output_type": "display_data"
    },
    {
     "name": "stdout",
     "output_type": "stream",
     "text": [
      "WARNING:tensorflow:Input graph does not use tf.data.Dataset or contain a QueueRunner. That means predict yields forever. This is probably a mistake.\n",
      "INFO:tensorflow:Calling model_fn.\n",
      "INFO:tensorflow:Done calling model_fn.\n",
      "INFO:tensorflow:Graph was finalized.\n",
      "INFO:tensorflow:Restoring parameters from ./saved_models/grid_single_peakon/2000x10_121_D04_ScaleDataOverall_relu/model.ckpt-5623\n",
      "INFO:tensorflow:Running local_init_op.\n",
      "INFO:tensorflow:Done running local_init_op.\n"
     ]
    },
    {
     "data": {
      "text/plain": [
       "(38.39658922175019, 196.58519956744044, 107.3359233693232)"
      ]
     },
     "execution_count": 17,
     "metadata": {},
     "output_type": "execute_result"
    }
   ],
   "source": [
    "poly_deg = 10\n",
    "results = plot_regressors([(Perfect(), None, 'Exact'),\n",
    "                           (dnn, preprocessor.training(False), 'DNN'),\n",
    "                           (BilinearInterp(), None, 'Bilinear'),\n",
    "                           (PolyInterp(poly_deg), None, 'Poly-{}'.format(poly_deg))],\n",
    "                          X_peak,\n",
    "                          y_peak)\n",
    "results[1].loss, results[2].loss, results[3].loss"
   ]
  },
  {
   "cell_type": "code",
   "execution_count": 9,
   "metadata": {},
   "outputs": [
    {
     "name": "stdout",
     "output_type": "stream",
     "text": [
      "WARNING:tensorflow:Could not load DNN from '.ipynb_checkpoints'. Error message: 'Bad dir_name string '.ipynb_checkpoints'. Cannot split on 'D0'.'\n",
      "INFO:tensorflow:Processor checkpoint file found, restoring values.\n",
      "INFO:tensorflow:Using config: {'_model_dir': './saved_models/grid_single_peakon/1000x10_121_D04_ScaleDataByBatch_relu', '_tf_random_seed': None, '_save_summary_steps': 100, '_save_checkpoints_steps': None, '_save_checkpoints_secs': 600, '_session_config': None, '_keep_checkpoint_max': 5, '_keep_checkpoint_every_n_hours': 10000, '_log_step_count_steps': 100, '_train_distribute': None, '_device_fn': None, '_service': None, '_cluster_spec': <tensorflow.python.training.server_lib.ClusterSpec object at 0x7f18ebf307f0>, '_task_type': 'worker', '_task_id': 0, '_global_id_in_cluster': 0, '_master': '', '_evaluation_master': '', '_is_chief': True, '_num_ps_replicas': 0, '_num_worker_replicas': 1}\n",
      "WARNING:tensorflow:Could not load DNN from '1000x10_121_D04_ScaleDataByBatch_relu_DUP1'. Error message: 'Bad dir_name string '1000x10_121_D04_ScaleDataByBatch_relu_DUP1'. Too many remainingarguments.'\n",
      "WARNING:tensorflow:Could not load DNN from '1000x10_121_D04_ScaleDataByBatch_relu_DUP2'. Error message: 'Bad dir_name string '1000x10_121_D04_ScaleDataByBatch_relu_DUP2'. Too many remainingarguments.'\n",
      "INFO:tensorflow:Processor checkpoint file found, restoring values.\n",
      "INFO:tensorflow:Using config: {'_model_dir': './saved_models/grid_single_peakon/1500x10_121_D04_ScaleDataByBatch_relu', '_tf_random_seed': None, '_save_summary_steps': 100, '_save_checkpoints_steps': None, '_save_checkpoints_secs': 600, '_session_config': None, '_keep_checkpoint_max': 5, '_keep_checkpoint_every_n_hours': 10000, '_log_step_count_steps': 100, '_train_distribute': None, '_device_fn': None, '_service': None, '_cluster_spec': <tensorflow.python.training.server_lib.ClusterSpec object at 0x7f18ebf30278>, '_task_type': 'worker', '_task_id': 0, '_global_id_in_cluster': 0, '_master': '', '_evaluation_master': '', '_is_chief': True, '_num_ps_replicas': 0, '_num_worker_replicas': 1}\n",
      "WARNING:tensorflow:Could not load DNN from '1500x10_121_D04_ScaleDataByBatch_relu_DUP1'. Error message: 'Bad dir_name string '1500x10_121_D04_ScaleDataByBatch_relu_DUP1'. Too many remainingarguments.'\n",
      "WARNING:tensorflow:Could not load DNN from '1500x10_121_D04_ScaleDataOverall_relu'. Error message: '[Errno 2] No such file or directory: './saved_models/grid_single_peakon/1500x10_121_D04_ScaleDataOverall_relu/processor-checkpoint''\n",
      "INFO:tensorflow:Processor checkpoint file found, restoring values.\n",
      "INFO:tensorflow:Using config: {'_model_dir': './saved_models/grid_single_peakon/2000x10_121_D04_ScaleDataOverall_relu', '_tf_random_seed': None, '_save_summary_steps': 100, '_save_checkpoints_steps': None, '_save_checkpoints_secs': 600, '_session_config': None, '_keep_checkpoint_max': 5, '_keep_checkpoint_every_n_hours': 10000, '_log_step_count_steps': 100, '_train_distribute': None, '_device_fn': None, '_service': None, '_cluster_spec': <tensorflow.python.training.server_lib.ClusterSpec object at 0x7f18ebf30390>, '_task_type': 'worker', '_task_id': 0, '_global_id_in_cluster': 0, '_master': '', '_evaluation_master': '', '_is_chief': True, '_num_ps_replicas': 0, '_num_worker_replicas': 1}\n",
      "WARNING:tensorflow:Could not load DNN from '2000x10_121_D04_ScaleDataOverall_relu_DUP1'. Error message: 'Bad dir_name string '2000x10_121_D04_ScaleDataOverall_relu_DUP1'. Too many remainingarguments.'\n"
     ]
    }
   ],
   "source": [
    "dnns_pros = create_dnns_pros_from_dir(model_dir_base)"
   ]
  },
  {
   "cell_type": "code",
   "execution_count": 13,
   "metadata": {},
   "outputs": [
    {
     "data": {
      "application/vnd.jupyter.widget-view+json": {
       "model_id": "d8aad230681c4b869cd04abe75c272fa",
       "version_major": 2,
       "version_minor": 0
      },
      "text/plain": [
       "FigureCanvasNbAgg()"
      ]
     },
     "metadata": {},
     "output_type": "display_data"
    },
    {
     "name": "stdout",
     "output_type": "stream",
     "text": [
      "WARNING:tensorflow:Input graph does not use tf.data.Dataset or contain a QueueRunner. That means predict yields forever. This is probably a mistake.\n",
      "INFO:tensorflow:Calling model_fn.\n",
      "INFO:tensorflow:Done calling model_fn.\n",
      "INFO:tensorflow:Graph was finalized.\n",
      "INFO:tensorflow:Restoring parameters from ./saved_models/grid_single_peakon/1000x10_121_D04_ScaleDataByBatch_relu/model.ckpt-5000\n",
      "INFO:tensorflow:Running local_init_op.\n",
      "INFO:tensorflow:Done running local_init_op.\n",
      "WARNING:tensorflow:Input graph does not use tf.data.Dataset or contain a QueueRunner. That means predict yields forever. This is probably a mistake.\n",
      "INFO:tensorflow:Calling model_fn.\n",
      "INFO:tensorflow:Done calling model_fn.\n",
      "INFO:tensorflow:Graph was finalized.\n",
      "INFO:tensorflow:Restoring parameters from ./saved_models/grid_single_peakon/1500x10_121_D04_ScaleDataByBatch_relu/model.ckpt-5000\n",
      "INFO:tensorflow:Running local_init_op.\n",
      "INFO:tensorflow:Done running local_init_op.\n",
      "WARNING:tensorflow:Input graph does not use tf.data.Dataset or contain a QueueRunner. That means predict yields forever. This is probably a mistake.\n",
      "INFO:tensorflow:Calling model_fn.\n",
      "INFO:tensorflow:Done calling model_fn.\n",
      "INFO:tensorflow:Graph was finalized.\n",
      "INFO:tensorflow:Restoring parameters from ./saved_models/grid_single_peakon/2000x10_121_D04_ScaleDataOverall_relu/model.ckpt-5623\n",
      "INFO:tensorflow:Running local_init_op.\n",
      "INFO:tensorflow:Done running local_init_op.\n"
     ]
    },
    {
     "data": {
      "text/plain": [
       "(7.356224928193971, 2.071188027877035, 4.0160781566844586)"
      ]
     },
     "execution_count": 13,
     "metadata": {},
     "output_type": "execute_result"
    }
   ],
   "source": [
    "poly_deg = 10\n",
    "average_reg = RegressorAverager(dnns_pros)\n",
    "#average_reg.set_mask([False, False, True, True, True, True, True])\n",
    "results = plot_regressors([(Perfect(), None, 'Exact'),\n",
    "                           (average_reg, None, 'RegressorAverager'),\n",
    "                           (BilinearInterp(), None, 'Bilinear'),\n",
    "                           (PolyInterp(poly_deg), None, 'Poly-{}'.format(poly_deg))],\n",
    "                          *gen_one_peakon_on_grid())\n",
    "results[1].loss, results[2].loss, results[3].loss"
   ]
  },
  {
   "cell_type": "code",
   "execution_count": null,
   "metadata": {},
   "outputs": [],
   "source": []
  }
 ],
 "metadata": {
  "kernelspec": {
   "display_name": "Python 3",
   "language": "python",
   "name": "python3"
  },
  "language_info": {
   "codemirror_mode": {
    "name": "ipython",
    "version": 3
   },
   "file_extension": ".py",
   "mimetype": "text/x-python",
   "name": "python",
   "nbconvert_exporter": "python",
   "pygments_lexer": "ipython3",
   "version": "3.6.6"
  }
 },
 "nbformat": 4,
 "nbformat_minor": 2
}
