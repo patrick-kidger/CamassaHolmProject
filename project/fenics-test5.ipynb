{
 "cells": [
  {
   "cell_type": "code",
   "execution_count": 3,
   "metadata": {},
   "outputs": [],
   "source": [
    "import numpy as np\n",
    "from fenics import *"
   ]
  },
  {
   "cell_type": "code",
   "execution_count": 13,
   "metadata": {},
   "outputs": [],
   "source": [
    "# Imports for plotting\n",
    "import ipympl\n",
    "%matplotlib widget\n",
    "import matplotlib.pyplot as plt\n",
    "# Has side effects allowing for 3D plots\n",
    "from mpl_toolkits.mplot3d import Axes3D"
   ]
  },
  {
   "cell_type": "code",
   "execution_count": 27,
   "metadata": {},
   "outputs": [],
   "source": [
    "### Mesh sizes\n",
    "t, T = 0.0, 10.0   # start and end times\n",
    "nt = 100            # number of time steps\n",
    "a, b = 0, 40     # start and end spacial positions\n",
    "nx = 100           # number of space steps\n",
    "dt = (T - t)/ nt\n",
    "\n",
    "### Define periodic boundary\n",
    "class PeriodicBoundary(SubDomain):\n",
    "\n",
    "    def inside(self, x, on_boundary):\n",
    "        return bool(x[0] < DOLFIN_EPS and x[0] > -DOLFIN_EPS and on_boundary)\n",
    "\n",
    "    # Map right boundary to left boundary\n",
    "    def map(self, x, y):\n",
    "        y[0] = x[0] - (b - a)\n",
    "\n",
    "### Create mesh and define function spaces\n",
    "mesh = IntervalMesh(nx, a, b)\n",
    "F_ele = FiniteElement(\"CG\", mesh.ufl_cell(), 1)\n",
    "V = FunctionSpace(mesh, F_ele, constrained_domain=PeriodicBoundary())\n",
    "W = FunctionSpace(mesh, MixedElement([F_ele, F_ele]), constrained_domain=PeriodicBoundary())"
   ]
  },
  {
   "cell_type": "code",
   "execution_count": 28,
   "metadata": {},
   "outputs": [],
   "source": [
    "### Initial values\n",
    "u0_uninterpolated = Expression('2/cosh(x[0] - 403.0/15.0) + 5 / cosh(x[0] - 203.0/15.0)', degree=2)\n",
    "u0 = interpolate(u0_uninterpolated, V)\n",
    "\n",
    "# Find initial value m0 for m\n",
    "q = TestFunction(V)\n",
    "m0 = TrialFunction(V)\n",
    "\n",
    "am0 = q * m0 * dx\n",
    "Lm0 = (q * u0 + q.dx(0) * u0.dx(0)) * dx\n",
    "      \n",
    "m0 = Function(V)\n",
    "solve(am0 == Lm0, m0)"
   ]
  },
  {
   "cell_type": "code",
   "execution_count": 29,
   "metadata": {},
   "outputs": [],
   "source": [
    "### Storing results\n",
    "# We begin by storing the intial condition.\n",
    "uvals = [u0.compute_vertex_values(mesh)]"
   ]
  },
  {
   "cell_type": "code",
   "execution_count": 38,
   "metadata": {},
   "outputs": [
    {
     "name": "stdout",
     "output_type": "stream",
     "text": [
      "time 00.2 energy 76.47262639986486\n"
     ]
    },
    {
     "ename": "RuntimeError",
     "evalue": "\n\n*** -------------------------------------------------------------------------\n*** DOLFIN encountered an error. If you are not able to resolve this issue\n*** using the information listed below, you can ask for help at\n***\n***     fenics-support@googlegroups.com\n***\n*** Remember to include the error message listed below and, if possible,\n*** include a *minimal* running example to reproduce the error.\n***\n*** -------------------------------------------------------------------------\n*** Error:   Unable to successfully call PETSc function 'MatSetValuesLocal'.\n*** Reason:  PETSc error code is: 63 (Argument out of range).\n*** Where:   This error was encountered inside /home/conda/feedstock_root/build_artifacts/fenics_1530480676164/work/dolfin/la/PETScMatrix.cpp.\n*** Process: 0\n*** \n*** DOLFIN version: 2018.1.0\n*** Git changeset:  6bc297d2abc96b1a4f9dd884fd1cdbd0dbe7c18e\n*** -------------------------------------------------------------------------\n",
     "output_type": "error",
     "traceback": [
      "\u001b[0;31m---------------------------------------------------------------------------\u001b[0m",
      "\u001b[0;31mRuntimeError\u001b[0m                              Traceback (most recent call last)",
      "\u001b[0;32m<ipython-input-38-97aa9ced678b>\u001b[0m in \u001b[0;36m<module>\u001b[0;34m()\u001b[0m\n\u001b[1;32m     29\u001b[0m     \u001b[0mprint\u001b[0m\u001b[0;34m(\u001b[0m\u001b[0;34m\"time {:0>4} energy {}\"\u001b[0m\u001b[0;34m.\u001b[0m\u001b[0mformat\u001b[0m\u001b[0;34m(\u001b[0m\u001b[0mt\u001b[0m\u001b[0;34m,\u001b[0m \u001b[0mE\u001b[0m\u001b[0;34m)\u001b[0m\u001b[0;34m)\u001b[0m\u001b[0;34m\u001b[0m\u001b[0m\n\u001b[1;32m     30\u001b[0m     \u001b[0;31m# Compute solution\u001b[0m\u001b[0;34m\u001b[0m\u001b[0;34m\u001b[0m\u001b[0m\n\u001b[0;32m---> 31\u001b[0;31m     \u001b[0msolve\u001b[0m\u001b[0;34m(\u001b[0m\u001b[0mF\u001b[0m \u001b[0;34m==\u001b[0m \u001b[0;36m0\u001b[0m\u001b[0;34m,\u001b[0m \u001b[0mw\u001b[0m\u001b[0;34m)\u001b[0m\u001b[0;34m\u001b[0m\u001b[0m\n\u001b[0m\u001b[1;32m     32\u001b[0m \u001b[0;31m#     solver.solve()\u001b[0m\u001b[0;34m\u001b[0m\u001b[0;34m\u001b[0m\u001b[0m\n\u001b[1;32m     33\u001b[0m     \u001b[0;31m# Save result\u001b[0m\u001b[0;34m\u001b[0m\u001b[0;34m\u001b[0m\u001b[0m\n",
      "\u001b[0;32m~/miniconda/envs/mltt/lib/python3.6/site-packages/dolfin/fem/solving.py\u001b[0m in \u001b[0;36msolve\u001b[0;34m(*args, **kwargs)\u001b[0m\n\u001b[1;32m    218\u001b[0m     \u001b[0;31m# tolerance)\u001b[0m\u001b[0;34m\u001b[0m\u001b[0;34m\u001b[0m\u001b[0m\n\u001b[1;32m    219\u001b[0m     \u001b[0;32melif\u001b[0m \u001b[0misinstance\u001b[0m\u001b[0;34m(\u001b[0m\u001b[0margs\u001b[0m\u001b[0;34m[\u001b[0m\u001b[0;36m0\u001b[0m\u001b[0;34m]\u001b[0m\u001b[0;34m,\u001b[0m \u001b[0mufl\u001b[0m\u001b[0;34m.\u001b[0m\u001b[0mclasses\u001b[0m\u001b[0;34m.\u001b[0m\u001b[0mEquation\u001b[0m\u001b[0;34m)\u001b[0m\u001b[0;34m:\u001b[0m\u001b[0;34m\u001b[0m\u001b[0m\n\u001b[0;32m--> 220\u001b[0;31m         \u001b[0m_solve_varproblem\u001b[0m\u001b[0;34m(\u001b[0m\u001b[0;34m*\u001b[0m\u001b[0margs\u001b[0m\u001b[0;34m,\u001b[0m \u001b[0;34m**\u001b[0m\u001b[0mkwargs\u001b[0m\u001b[0;34m)\u001b[0m\u001b[0;34m\u001b[0m\u001b[0m\n\u001b[0m\u001b[1;32m    221\u001b[0m \u001b[0;34m\u001b[0m\u001b[0m\n\u001b[1;32m    222\u001b[0m     \u001b[0;31m# Default case, just call the wrapped C++ solve function\u001b[0m\u001b[0;34m\u001b[0m\u001b[0;34m\u001b[0m\u001b[0m\n",
      "\u001b[0;32m~/miniconda/envs/mltt/lib/python3.6/site-packages/dolfin/fem/solving.py\u001b[0m in \u001b[0;36m_solve_varproblem\u001b[0;34m(*args, **kwargs)\u001b[0m\n\u001b[1;32m    264\u001b[0m         \u001b[0msolver\u001b[0m \u001b[0;34m=\u001b[0m \u001b[0mNonlinearVariationalSolver\u001b[0m\u001b[0;34m(\u001b[0m\u001b[0mproblem\u001b[0m\u001b[0;34m)\u001b[0m\u001b[0;34m\u001b[0m\u001b[0m\n\u001b[1;32m    265\u001b[0m         \u001b[0msolver\u001b[0m\u001b[0;34m.\u001b[0m\u001b[0mparameters\u001b[0m\u001b[0;34m.\u001b[0m\u001b[0mupdate\u001b[0m\u001b[0;34m(\u001b[0m\u001b[0msolver_parameters\u001b[0m\u001b[0;34m)\u001b[0m\u001b[0;34m\u001b[0m\u001b[0m\n\u001b[0;32m--> 266\u001b[0;31m         \u001b[0msolver\u001b[0m\u001b[0;34m.\u001b[0m\u001b[0msolve\u001b[0m\u001b[0;34m(\u001b[0m\u001b[0;34m)\u001b[0m\u001b[0;34m\u001b[0m\u001b[0m\n\u001b[0m\u001b[1;32m    267\u001b[0m \u001b[0;34m\u001b[0m\u001b[0m\n\u001b[1;32m    268\u001b[0m \u001b[0;34m\u001b[0m\u001b[0m\n",
      "\u001b[0;31mRuntimeError\u001b[0m: \n\n*** -------------------------------------------------------------------------\n*** DOLFIN encountered an error. If you are not able to resolve this issue\n*** using the information listed below, you can ask for help at\n***\n***     fenics-support@googlegroups.com\n***\n*** Remember to include the error message listed below and, if possible,\n*** include a *minimal* running example to reproduce the error.\n***\n*** -------------------------------------------------------------------------\n*** Error:   Unable to successfully call PETSc function 'MatSetValuesLocal'.\n*** Reason:  PETSc error code is: 63 (Argument out of range).\n*** Where:   This error was encountered inside /home/conda/feedstock_root/build_artifacts/fenics_1530480676164/work/dolfin/la/PETScMatrix.cpp.\n*** Process: 0\n*** \n*** DOLFIN version: 2018.1.0\n*** Git changeset:  6bc297d2abc96b1a4f9dd884fd1cdbd0dbe7c18e\n*** -------------------------------------------------------------------------\n"
     ]
    }
   ],
   "source": [
    "### Define variational problem\n",
    "# Stores the values of the previous time step. Starts off at the initial condition.\n",
    "m_prev, u_prev = m0, u0\n",
    "# Test functinos\n",
    "p, q = TestFunctions(W)\n",
    "# Function to solve for\n",
    "w = Function(W)\n",
    "m, u = w.split()\n",
    "# m.assign(m0)\n",
    "# u.assign(u0)\n",
    "m_mid = 0.5 * (m + m_prev)\n",
    "u_mid = 0.5 * (u + u_prev)\n",
    "F = (\n",
    "    (q * u + q.dx(0) * u.dx(0) - q * m) * dx +                                          # q part\n",
    "    (p * (m - m_prev) + dt * (p * m_mid * u_mid.dx(0) - p.dx(0) * m_mid * u_mid)) * dx  # p part\n",
    "    )\n",
    "\n",
    "# L = lhs(F)\n",
    "# J = derivative(F, w)\n",
    "# problem = NonlinearVariationalProblem(F, w, [], J)\n",
    "# solver = NonlinearVariationalSolver(problem)\n",
    "\n",
    "# Time-stepping\n",
    "for n in range(nt):\n",
    "    # Update current time\n",
    "    t += dt\n",
    "    # Print energy\n",
    "    E = assemble((u_prev * u_prev + u_prev.dx(0) * u_prev.dx(0)) * dx)\n",
    "    print(\"time {:0>4} energy {}\".format(t, E))\n",
    "    # Compute solution\n",
    "    solve(F == 0, w)\n",
    "#     solver.solve()\n",
    "    # Save result\n",
    "    uvals.append(u.compute_vertex_values(mesh))\n",
    "    # Update for next loop\n",
    "    u_prev.assign(u)\n",
    "    m_prev.assign(m)\n",
    "print('done')"
   ]
  },
  {
   "cell_type": "code",
   "execution_count": null,
   "metadata": {},
   "outputs": [],
   "source": [
    "uvals = np.array(uvals)\n",
    "xvals = mesh.coordinates()[:, 0]\n",
    "tvals = np.linspace(0, T, nt + 1)"
   ]
  },
  {
   "cell_type": "code",
   "execution_count": null,
   "metadata": {},
   "outputs": [],
   "source": [
    "fig = plt.figure(figsize=(10, 10))\n",
    "ax = fig.add_subplot(1, 1, 1, projection='3d')\n",
    "ax.scatter(*np.meshgrid(xvals, tvals), uvals)"
   ]
  }
 ],
 "metadata": {
  "kernelspec": {
   "display_name": "Python 3",
   "language": "python",
   "name": "python3"
  },
  "language_info": {
   "codemirror_mode": {
    "name": "ipython",
    "version": 3
   },
   "file_extension": ".py",
   "mimetype": "text/x-python",
   "name": "python",
   "nbconvert_exporter": "python",
   "pygments_lexer": "ipython3",
   "version": "3.6.6"
  }
 },
 "nbformat": 4,
 "nbformat_minor": 2
}
