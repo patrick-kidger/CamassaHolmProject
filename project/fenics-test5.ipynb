{
 "cells": [
  {
   "cell_type": "code",
   "execution_count": 1,
   "metadata": {},
   "outputs": [],
   "source": [
    "import itertools as it\n",
    "import numpy as np\n",
    "from fenics import *"
   ]
  },
  {
   "cell_type": "code",
   "execution_count": 2,
   "metadata": {},
   "outputs": [],
   "source": [
    "# Imports for plotting\n",
    "import ipympl\n",
    "%matplotlib widget\n",
    "import matplotlib.pyplot as plt\n",
    "# Has side effects allowing for 3D plots\n",
    "from mpl_toolkits.mplot3d import Axes3D"
   ]
  },
  {
   "cell_type": "code",
   "execution_count": 3,
   "metadata": {},
   "outputs": [],
   "source": [
    "### Define Mesh sizes\n",
    "t, T = 0.0, 10.0   # start and end times\n",
    "nt = 100            # number of time steps\n",
    "a, b = 0, 40     # start and end spacial positions\n",
    "nx = 100           # number of space steps\n",
    "dt = (T - t)/ nt\n",
    "\n",
    "### Define periodic boundary\n",
    "class PeriodicBoundary(SubDomain):\n",
    "\n",
    "    def inside(self, x, on_boundary):\n",
    "        return bool(x[0] < DOLFIN_EPS and x[0] > -DOLFIN_EPS and on_boundary)\n",
    "\n",
    "    # Map right boundary to left boundary\n",
    "    def map(self, x, y):\n",
    "        y[0] = x[0] - (b - a)\n",
    "\n",
    "### Create mesh and define function spaces\n",
    "mesh = IntervalMesh(nx, a, b)\n",
    "F_ele = FiniteElement(\"CG\", mesh.ufl_cell(), 1)\n",
    "V = FunctionSpace(mesh, F_ele, constrained_domain=PeriodicBoundary())\n",
    "W = FunctionSpace(mesh, MixedElement([F_ele, F_ele]), constrained_domain=PeriodicBoundary())"
   ]
  },
  {
   "cell_type": "code",
   "execution_count": 4,
   "metadata": {},
   "outputs": [],
   "source": [
    "### Define and deduce initial values\n",
    "w0 = Function(W)\n",
    "m0, u0 = w0.split()\n",
    "u0_uninterpolated = Expression('2/cosh(x[0] - 403.0/15.0) + 5 / cosh(x[0] - 203.0/15.0)', degree=2)\n",
    "u0.assign(interpolate(u0_uninterpolated, V))\n",
    "\n",
    "# Find initial value m0 for m\n",
    "q = TestFunction(V)\n",
    "m = TrialFunction(V)\n",
    "\n",
    "am = q * m * dx\n",
    "Lm = (q * u0 + q.dx(0) * u0.dx(0)) * dx\n",
    "      \n",
    "m0 = Function(V)\n",
    "solve(am == Lm, m0)\n",
    "\n",
    "# Put m0, u0 back into w0\n",
    "wvector = w0.vector()\n",
    "for index, val in enumerate(it.chain(np.array(m0.vector()), np.array(u0.vector()))):\n",
    "    wvector[index] = val"
   ]
  },
  {
   "cell_type": "code",
   "execution_count": 5,
   "metadata": {},
   "outputs": [],
   "source": [
    "### Storing results\n",
    "# We begin by storing the intial condition.\n",
    "uvals = [u0.compute_vertex_values(mesh)]"
   ]
  },
  {
   "cell_type": "code",
   "execution_count": 6,
   "metadata": {},
   "outputs": [],
   "source": [
    "### State variational problem\n",
    "# Relabel w0 as w_prev. Mathematically, let w_prev equal w0.\n",
    "w_prev = w0\n",
    "p, q = TestFunctions(W)\n",
    "# Function to solve for\n",
    "w = Function(W)\n",
    "m, u = split(w)\n",
    "m_prev, u_prev = split(w_prev)\n",
    "m_mid = 0.5 * (m + m_prev)\n",
    "u_mid = 0.5 * (u + u_prev)\n",
    "F = (\n",
    "    (q * u + q.dx(0) * u.dx(0) - q * m) * dx +                                          # q part\n",
    "    (p * (m - m_prev) + dt * (p * m_mid * u_mid.dx(0) - p.dx(0) * m_mid * u_mid)) * dx  # p part\n",
    "    )\n",
    "J = derivative(F, w)\n",
    "problem = NonlinearVariationalProblem(F, w, J=J)\n",
    "solver = NonlinearVariationalSolver(problem)"
   ]
  },
  {
   "cell_type": "code",
   "execution_count": 6,
   "metadata": {},
   "outputs": [
    {
     "name": "stdout",
     "output_type": "stream",
     "text": [
      "time 00.1 energy 684.4514730565384\n",
      "time 00.2 energy 684.4514730565384\n",
      "time 0.30000000000000004 energy 684.4514730565384\n",
      "time 00.4 energy 684.4514730565384\n",
      "time 00.5 energy 684.4514730565384\n",
      "time 00.6 energy 684.4514730565384\n",
      "time 00.7 energy 684.4514730565384\n",
      "time 0.7999999999999999 energy 684.4514730565384\n",
      "time 0.8999999999999999 energy 684.4514730565384\n",
      "time 0.9999999999999999 energy 684.4514730565384\n",
      "time 1.0999999999999999 energy 684.4514730565384\n",
      "time 01.2 energy 684.4514730565384\n",
      "time 01.3 energy 684.4514730565384\n",
      "time 1.4000000000000001 energy 684.4514730565384\n",
      "time 1.5000000000000002 energy 684.4514730565384\n",
      "time 1.6000000000000003 energy 684.4514730565384\n",
      "time 1.7000000000000004 energy 684.4514730565384\n",
      "time 1.8000000000000005 energy 684.4514730565384\n",
      "time 1.9000000000000006 energy 684.4514730565384\n",
      "time 2.0000000000000004 energy 684.4514730565384\n",
      "time 2.1000000000000005 energy 684.4514730565384\n",
      "time 2.2000000000000006 energy 684.4514730565384\n",
      "time 2.3000000000000007 energy 684.4514730565384\n",
      "time 2.400000000000001 energy 684.4514730565384\n",
      "time 2.500000000000001 energy 684.4514730565384\n",
      "time 2.600000000000001 energy 684.4514730565384\n",
      "time 2.700000000000001 energy 684.4514730565384\n",
      "time 2.800000000000001 energy 684.4514730565384\n",
      "time 2.9000000000000012 energy 684.4514730565384\n",
      "time 3.0000000000000013 energy 684.4514730565384\n",
      "time 3.1000000000000014 energy 684.4514730565384\n",
      "time 3.2000000000000015 energy 684.4514730565384\n",
      "time 3.3000000000000016 energy 684.4514730565384\n",
      "time 3.4000000000000017 energy 684.4514730565384\n",
      "time 3.5000000000000018 energy 684.4514730565384\n",
      "time 3.600000000000002 energy 684.4514730565384\n",
      "time 3.700000000000002 energy 684.4514730565384\n",
      "time 3.800000000000002 energy 684.4514730565384\n",
      "time 3.900000000000002 energy 684.4514730565384\n",
      "time 4.000000000000002 energy 684.4514730565384\n",
      "time 4.100000000000001 energy 684.4514730565384\n",
      "time 4.200000000000001 energy 684.4514730565384\n",
      "time 4.300000000000001 energy 684.4514730565384\n",
      "time 04.4 energy 684.4514730565384\n",
      "time 04.5 energy 684.4514730565384\n",
      "time 04.6 energy 684.4514730565384\n",
      "time 4.699999999999999 energy 684.4514730565384\n",
      "time 4.799999999999999 energy 684.4514730565384\n",
      "time 4.899999999999999 energy 684.4514730565384\n",
      "time 4.999999999999998 energy 684.4514730565384\n",
      "time 5.099999999999998 energy 684.4514730565384\n",
      "time 5.1999999999999975 energy 684.4514730565384\n",
      "time 5.299999999999997 energy 684.4514730565384\n",
      "time 5.399999999999997 energy 684.4514730565384\n",
      "time 5.4999999999999964 energy 684.4514730565384\n",
      "time 5.599999999999996 energy 684.4514730565384\n",
      "time 5.699999999999996 energy 684.4514730565384\n",
      "time 5.799999999999995 energy 684.4514730565384\n",
      "time 5.899999999999995 energy 684.4514730565384\n",
      "time 5.999999999999995 energy 684.4514730565384\n",
      "time 6.099999999999994 energy 684.4514730565384\n",
      "time 6.199999999999994 energy 684.4514730565384\n",
      "time 6.299999999999994 energy 684.4514730565384\n",
      "time 6.399999999999993 energy 684.4514730565384\n",
      "time 6.499999999999993 energy 684.4514730565384\n",
      "time 6.5999999999999925 energy 684.4514730565384\n",
      "time 6.699999999999992 energy 684.4514730565384\n",
      "time 6.799999999999992 energy 684.4514730565384\n",
      "time 6.8999999999999915 energy 684.4514730565384\n",
      "time 6.999999999999991 energy 684.4514730565384\n",
      "time 7.099999999999991 energy 684.4514730565384\n",
      "time 7.19999999999999 energy 684.4514730565384\n",
      "time 7.29999999999999 energy 684.4514730565384\n",
      "time 7.39999999999999 energy 684.4514730565384\n",
      "time 7.499999999999989 energy 684.4514730565384\n",
      "time 7.599999999999989 energy 684.4514730565384\n",
      "time 7.699999999999989 energy 684.4514730565384\n",
      "time 7.799999999999988 energy 684.4514730565384\n",
      "time 7.899999999999988 energy 684.4514730565384\n",
      "time 7.999999999999988 energy 684.4514730565384\n",
      "time 8.099999999999987 energy 684.4514730565384\n",
      "time 8.199999999999987 energy 684.4514730565384\n",
      "time 8.299999999999986 energy 684.4514730565384\n",
      "time 8.399999999999986 energy 684.4514730565384\n",
      "time 8.499999999999986 energy 684.4514730565384\n",
      "time 8.599999999999985 energy 684.4514730565384\n",
      "time 8.699999999999985 energy 684.4514730565384\n",
      "time 8.799999999999985 energy 684.4514730565384\n",
      "time 8.899999999999984 energy 684.4514730565384\n",
      "time 8.999999999999984 energy 684.4514730565384\n",
      "time 9.099999999999984 energy 684.4514730565384\n",
      "time 9.199999999999983 energy 684.4514730565384\n",
      "time 9.299999999999983 energy 684.4514730565384\n",
      "time 9.399999999999983 energy 684.4514730565384\n",
      "time 9.499999999999982 energy 684.4514730565384\n",
      "time 9.599999999999982 energy 684.4514730565384\n",
      "time 9.699999999999982 energy 684.4514730565384\n",
      "time 9.799999999999981 energy 684.4514730565384\n",
      "time 9.89999999999998 energy 684.4514730565384\n",
      "time 9.99999999999998 energy 684.4514730565384\n",
      "done\n"
     ]
    }
   ],
   "source": [
    "### Time step through the problem\n",
    "m, u = w.split()\n",
    "m_prev, u_prev = w_prev.split()\n",
    "for n in range(nt):\n",
    "    t += dt\n",
    "    if n % 10 == 0:\n",
    "        E = assemble((u_prev * u_prev + u_prev.dx(0) * u_prev.dx(0)) * dx)\n",
    "        print(\"time {:0>4} energy {}\".format(t, E))  # Energy should remain constant\n",
    "    solver.solve()\n",
    "    uvals.append(u.compute_vertex_values(mesh))  # Save result\n",
    "    w_prev.assign(w)  # Update for next loop"
   ]
  },
  {
   "cell_type": "code",
   "execution_count": 7,
   "metadata": {},
   "outputs": [],
   "source": [
    "uvals = np.array(uvals)\n",
    "xvals = mesh.coordinates()[:, 0]\n",
    "tvals = np.linspace(0, T, nt + 1)"
   ]
  },
  {
   "cell_type": "code",
   "execution_count": 8,
   "metadata": {},
   "outputs": [
    {
     "data": {
      "application/vnd.jupyter.widget-view+json": {
       "model_id": "a8726ad0757c4a48ba14bd53536ca61a",
       "version_major": 2,
       "version_minor": 0
      },
      "text/plain": [
       "FigureCanvasNbAgg()"
      ]
     },
     "metadata": {},
     "output_type": "display_data"
    },
    {
     "data": {
      "text/plain": [
       "<mpl_toolkits.mplot3d.art3d.Path3DCollection at 0x7eff3ff2ed30>"
      ]
     },
     "execution_count": 8,
     "metadata": {},
     "output_type": "execute_result"
    }
   ],
   "source": [
    "fig = plt.figure(figsize=(10, 10))\n",
    "ax = fig.add_subplot(1, 1, 1, projection='3d')\n",
    "ax.scatter(*np.meshgrid(xvals, tvals), uvals)"
   ]
  }
 ],
 "metadata": {
  "kernelspec": {
   "display_name": "Python 3",
   "language": "python",
   "name": "python3"
  },
  "language_info": {
   "codemirror_mode": {
    "name": "ipython",
    "version": 3
   },
   "file_extension": ".py",
   "mimetype": "text/x-python",
   "name": "python",
   "nbconvert_exporter": "python",
   "pygments_lexer": "ipython3",
   "version": "3.6.6"
  }
 },
 "nbformat": 4,
 "nbformat_minor": 2
}
