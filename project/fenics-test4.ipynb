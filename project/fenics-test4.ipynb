{
 "cells": [
  {
   "cell_type": "code",
   "execution_count": 1,
   "metadata": {},
   "outputs": [],
   "source": [
    "# Imports for plotting\n",
    "import ipympl\n",
    "%matplotlib widget\n",
    "import matplotlib.pyplot as plt\n",
    "# Has side effects allowing for 3D plots\n",
    "from mpl_toolkits.mplot3d import Axes3D"
   ]
  },
  {
   "cell_type": "code",
   "execution_count": 2,
   "metadata": {},
   "outputs": [],
   "source": [
    "import numpy as np"
   ]
  },
  {
   "cell_type": "code",
   "execution_count": 15,
   "metadata": {},
   "outputs": [
    {
     "name": "stdout",
     "output_type": "stream",
     "text": [
      "done\n"
     ]
    }
   ],
   "source": [
    "from fenics import *\n",
    "\n",
    "# Results\n",
    "uvals = []\n",
    "\n",
    "# Mesh sizes\n",
    "t, T = 0.0, 10.0   # start and end times\n",
    "nt = 10            # number of time steps\n",
    "a, b = -10, 10     # start and end spacial positions\n",
    "nx = 200           # number of space steps\n",
    "dt = (T - t)/ nt\n",
    "\n",
    "# Initial value\n",
    "alpha = 1\n",
    "u0 = Expression('1 + alpha*x[0]*x[0]', degree=2, alpha=alpha)\n",
    "\n",
    "# Define periodic boundary\n",
    "class PeriodicBoundary(SubDomain):\n",
    "\n",
    "    # Left boundary is \"target domain\" G\n",
    "    def inside(self, x, on_boundary):\n",
    "        return bool(x[0] < DOLFIN_EPS and x[0] > -DOLFIN_EPS and on_boundary)\n",
    "\n",
    "    # Map right boundary (H) to left boundary (G)\n",
    "    def map(self, x, y):\n",
    "        y[0] = x[0] - 20.0\n",
    "\n",
    "# Create mesh and define function space\n",
    "mesh = IntervalMesh(nx, a, b)\n",
    "V = FunctionSpace(mesh, 'CG', 1, constrained_domain=PeriodicBoundary())\n",
    "\n",
    "# Define initial value\n",
    "u_prev = interpolate(u0, V)\n",
    "uvals.append(u_prev.compute_vertex_values(mesh))\n",
    "\n",
    "# Define variational problem\n",
    "u = TrialFunction(V)\n",
    "v = TestFunction(V)\n",
    "f = Constant(0)\n",
    "F = u*v*dx + dt*dot(grad(u), grad(v))*dx - (u_prev + dt*f)*v*dx\n",
    "a, L = lhs(F), rhs(F)\n",
    "\n",
    "# Time-stepping\n",
    "u = Function(V)\n",
    "for n in range(nt):\n",
    "    # Update current time\n",
    "    t += dt\n",
    "    # Compute solution\n",
    "    solve(a == L, u)\n",
    "    # Save result\n",
    "    uvals.append(u.compute_vertex_values(mesh))\n",
    "    # Update for next loop\n",
    "    u_prev.assign(u)\n",
    "print('done')"
   ]
  },
  {
   "cell_type": "code",
   "execution_count": 16,
   "metadata": {},
   "outputs": [],
   "source": [
    "uvals = np.array(uvals)\n",
    "xvals = mesh.coordinates()[:, 0]\n",
    "tvals = np.linspace(0, T, nt + 1)"
   ]
  },
  {
   "cell_type": "code",
   "execution_count": 17,
   "metadata": {},
   "outputs": [
    {
     "data": {
      "application/vnd.jupyter.widget-view+json": {
       "model_id": "5b7dfbf123b64511a3d2d70fadf95367",
       "version_major": 2,
       "version_minor": 0
      },
      "text/plain": [
       "FigureCanvasNbAgg()"
      ]
     },
     "metadata": {},
     "output_type": "display_data"
    },
    {
     "data": {
      "text/plain": [
       "<mpl_toolkits.mplot3d.art3d.Path3DCollection at 0x7f712f471208>"
      ]
     },
     "execution_count": 17,
     "metadata": {},
     "output_type": "execute_result"
    }
   ],
   "source": [
    "fig = plt.figure(figsize=(10, 10))\n",
    "ax = fig.add_subplot(1, 1, 1, projection='3d')\n",
    "ax.scatter(*np.meshgrid(xvals, tvals), uvals)"
   ]
  }
 ],
 "metadata": {
  "kernelspec": {
   "display_name": "Python 3",
   "language": "python",
   "name": "python3"
  },
  "language_info": {
   "codemirror_mode": {
    "name": "ipython",
    "version": 3
   },
   "file_extension": ".py",
   "mimetype": "text/x-python",
   "name": "python",
   "nbconvert_exporter": "python",
   "pygments_lexer": "ipython3",
   "version": "3.6.6"
  }
 },
 "nbformat": 4,
 "nbformat_minor": 2
}
