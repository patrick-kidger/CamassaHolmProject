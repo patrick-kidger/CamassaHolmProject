{
 "cells": [
  {
   "cell_type": "code",
   "execution_count": 1,
   "metadata": {},
   "outputs": [],
   "source": [
    "# Imports for plotting\n",
    "import ipympl\n",
    "%matplotlib widget\n",
    "import matplotlib.pyplot as plt\n",
    "# Has side effects allowing for 3D plots\n",
    "from mpl_toolkits.mplot3d import Axes3D"
   ]
  },
  {
   "cell_type": "code",
   "execution_count": 3,
   "metadata": {},
   "outputs": [
    {
     "name": "stdout",
     "output_type": "stream",
     "text": [
      "WARNING: user expression has not supplied value_shape method or an element. Assuming scalar element.\n",
      "Calling FFC just-in-time (JIT) compiler, this may take some time.\n",
      "Calling FFC just-in-time (JIT) compiler, this may take some time.\n"
     ]
    }
   ],
   "source": [
    "from dolfin import *\n",
    "\n",
    "# Source term\n",
    "class Source(UserExpression):\n",
    "    def eval(self, values, x):\n",
    "        dx = x[0] - 0.5\n",
    "        dy = x[1] - 0.5\n",
    "        values[0] = x[0]*sin(5.0*DOLFIN_PI*x[1]) \\\n",
    "                    + 1.0*exp(-(dx*dx + dy*dy)/0.02)\n",
    "\n",
    "# Sub domain for Dirichlet boundary condition\n",
    "class DirichletBoundary(SubDomain):\n",
    "    def inside(self, x, on_boundary):\n",
    "        return bool((x[1] < DOLFIN_EPS or x[1] > (1.0 - DOLFIN_EPS)) \\\n",
    "                    and on_boundary)\n",
    "\n",
    "# Sub domain for Periodic boundary condition\n",
    "class PeriodicBoundary(SubDomain):\n",
    "\n",
    "    # Left boundary is \"target domain\" G\n",
    "    def inside(self, x, on_boundary):\n",
    "        return bool(x[0] < DOLFIN_EPS and x[0] > -DOLFIN_EPS and on_boundary)\n",
    "\n",
    "    # Map right boundary (H) to left boundary (G)\n",
    "    def map(self, x, y):\n",
    "        y[0] = x[0] - 1.0\n",
    "        y[1] = x[1]\n",
    "\n",
    "# Create mesh and finite element\n",
    "mesh = UnitSquareMesh(32, 32)\n",
    "V = FunctionSpace(mesh, \"CG\", 1, constrained_domain=PeriodicBoundary())\n",
    "\n",
    "# Create Dirichlet boundary condition\n",
    "u0 = Constant(0.0)\n",
    "dbc = DirichletBoundary()\n",
    "bc0 = DirichletBC(V, u0, dbc)\n",
    "\n",
    "# Collect boundary conditions\n",
    "bcs = [bc0]\n",
    "\n",
    "# Define variational problem\n",
    "u = TrialFunction(V)\n",
    "v = TestFunction(V)\n",
    "f = Source(degree=1)\n",
    "a = dot(grad(u), grad(v))*dx\n",
    "L = f*v*dx\n",
    "\n",
    "# Compute solution\n",
    "u = Function(V)\n",
    "solve(a == L, u, bcs)"
   ]
  },
  {
   "cell_type": "code",
   "execution_count": 4,
   "metadata": {},
   "outputs": [],
   "source": [
    "uvals = u.compute_vertex_values(mesh)\n",
    "xyvals = mesh.coordinates()\n",
    "xvals = xyvals[:, 0]\n",
    "yvals = xyvals[:, 1]"
   ]
  },
  {
   "cell_type": "code",
   "execution_count": 5,
   "metadata": {},
   "outputs": [
    {
     "data": {
      "application/vnd.jupyter.widget-view+json": {
       "model_id": "3be758e759ab4a369e9bc24bc4f8a0cb",
       "version_major": 2,
       "version_minor": 0
      },
      "text/plain": [
       "FigureCanvasNbAgg()"
      ]
     },
     "metadata": {},
     "output_type": "display_data"
    },
    {
     "data": {
      "text/plain": [
       "<mpl_toolkits.mplot3d.art3d.Path3DCollection at 0x7f558ed1b3c8>"
      ]
     },
     "execution_count": 5,
     "metadata": {},
     "output_type": "execute_result"
    }
   ],
   "source": [
    "fig = plt.figure(figsize=(10, 10))\n",
    "ax = fig.add_subplot(1, 1, 1, projection='3d')\n",
    "ax.scatter(xvals, yvals, uvals)"
   ]
  },
  {
   "cell_type": "code",
   "execution_count": 6,
   "metadata": {},
   "outputs": [
    {
     "data": {
      "text/plain": [
       "(dolfin.cpp.generation.UnitSquareMesh,\n",
       " dolfin.cpp.mesh.Mesh,\n",
       " dolfin.cpp.common.Variable,\n",
       " pybind11_builtins.pybind11_object,\n",
       " object)"
      ]
     },
     "execution_count": 6,
     "metadata": {},
     "output_type": "execute_result"
    }
   ],
   "source": [
    "RectangleMesh(-20, 20, )"
   ]
  },
  {
   "cell_type": "code",
   "execution_count": null,
   "metadata": {},
   "outputs": [],
   "source": []
  }
 ],
 "metadata": {
  "kernelspec": {
   "display_name": "Python 3",
   "language": "python",
   "name": "python3"
  },
  "language_info": {
   "codemirror_mode": {
    "name": "ipython",
    "version": 3
   },
   "file_extension": ".py",
   "mimetype": "text/x-python",
   "name": "python",
   "nbconvert_exporter": "python",
   "pygments_lexer": "ipython3",
   "version": "3.6.6"
  }
 },
 "nbformat": 4,
 "nbformat_minor": 2
}
