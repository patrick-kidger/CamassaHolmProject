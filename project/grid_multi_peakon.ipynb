{
 "cells": [
  {
   "cell_type": "code",
   "execution_count": 1,
   "metadata": {},
   "outputs": [],
   "source": [
    "import itertools as it\n",
    "import tensorflow as tf\n",
    "\n",
    "from base import ml"
   ]
  },
  {
   "cell_type": "code",
   "execution_count": 2,
   "metadata": {},
   "outputs": [],
   "source": [
    "# Set to False to use existing weights for the neural network.\n",
    "# Set to True to continue training the weights from where we left off last time.\n",
    "TRAIN = True"
   ]
  },
  {
   "cell_type": "code",
   "execution_count": null,
   "metadata": {},
   "outputs": [
    {
     "name": "stdout",
     "output_type": "stream",
     "text": [
      "INFO:tensorflow:Using config: {'_model_dir': './saved_models/grid_multi_peakon/50x2_121__ScaleCenter_crelu', '_tf_random_seed': None, '_save_summary_steps': 100, '_save_checkpoints_steps': None, '_save_checkpoints_secs': 600, '_session_config': None, '_keep_checkpoint_max': 5, '_keep_checkpoint_every_n_hours': 10000, '_log_step_count_steps': 1000, '_train_distribute': None, '_device_fn': None, '_service': None, '_cluster_spec': <tensorflow.python.training.server_lib.ClusterSpec object at 0x7fa55ac2c3c8>, '_task_type': 'worker', '_task_id': 0, '_global_id_in_cluster': 0, '_master': '', '_evaluation_master': '', '_is_chief': True, '_num_ps_replicas': 0, '_num_worker_replicas': 1}\n",
      "INFO:tensorflow:Calling model_fn.\n",
      "INFO:tensorflow:Done calling model_fn.\n",
      "INFO:tensorflow:Create CheckpointSaverHook.\n",
      "INFO:tensorflow:Graph was finalized.\n",
      "INFO:tensorflow:Running local_init_op.\n",
      "INFO:tensorflow:Done running local_init_op.\n",
      "INFO:tensorflow:Saving checkpoints for 0 into ./saved_models/grid_multi_peakon/50x2_121__ScaleCenter_crelu/model.ckpt.\n",
      "INFO:tensorflow:loss = 0.33475187, step = 1\n",
      "INFO:tensorflow:global_step/sec: 23.9051\n",
      "INFO:tensorflow:loss = 0.003269636, step = 1001 (41.835 sec)\n",
      "INFO:tensorflow:global_step/sec: 23.8583\n",
      "INFO:tensorflow:loss = 0.001891698, step = 2001 (41.914 sec)\n",
      "INFO:tensorflow:global_step/sec: 24\n",
      "INFO:tensorflow:loss = 0.0032261433, step = 3001 (41.670 sec)\n",
      "INFO:tensorflow:global_step/sec: 24.0746\n",
      "INFO:tensorflow:loss = 0.00059139467, step = 4001 (41.534 sec)\n",
      "INFO:tensorflow:Saving checkpoints for 5000 into ./saved_models/grid_multi_peakon/50x2_121__ScaleCenter_crelu/model.ckpt.\n",
      "INFO:tensorflow:Loss for final step: 0.0007289102.\n",
      "INFO:tensorflow:Using config: {'_model_dir': './saved_models/grid_multi_peakon/50x2_121__ScaleCenter_crelu', '_tf_random_seed': None, '_save_summary_steps': 100, '_save_checkpoints_steps': None, '_save_checkpoints_secs': 600, '_session_config': None, '_keep_checkpoint_max': 5, '_keep_checkpoint_every_n_hours': 10000, '_log_step_count_steps': 1000, '_train_distribute': None, '_device_fn': None, '_service': None, '_cluster_spec': <tensorflow.python.training.server_lib.ClusterSpec object at 0x7fa55a3c66d8>, '_task_type': 'worker', '_task_id': 0, '_global_id_in_cluster': 0, '_master': '', '_evaluation_master': '', '_is_chief': True, '_num_ps_replicas': 0, '_num_worker_replicas': 1}\n",
      "INFO:tensorflow:Calling model_fn.\n",
      "INFO:tensorflow:Done calling model_fn.\n",
      "INFO:tensorflow:Create CheckpointSaverHook.\n",
      "INFO:tensorflow:Graph was finalized.\n",
      "INFO:tensorflow:Restoring parameters from ./saved_models/grid_multi_peakon/50x2_121__ScaleCenter_crelu/model.ckpt-5000\n",
      "INFO:tensorflow:Running local_init_op.\n",
      "INFO:tensorflow:Done running local_init_op.\n",
      "INFO:tensorflow:Saving checkpoints for 5000 into ./saved_models/grid_multi_peakon/50x2_121__ScaleCenter_crelu/model.ckpt.\n",
      "INFO:tensorflow:loss = 0.0006680452, step = 5001\n",
      "INFO:tensorflow:global_step/sec: 2.04912\n",
      "INFO:tensorflow:loss = 0.00035260318, step = 6001 (488.016 sec)\n"
     ]
    }
   ],
   "source": [
    "### DNN hyperparameters\n",
    "widths_depths0 = ((width, depth) for width in (50, 100, 200, 300, 400) for depth in (2, 4, 6))\n",
    "widths_depths1 = ((width, depth) for width in (80, 90, 100, 110, 120) for depth in (6, 7, 8))\n",
    "\n",
    "widths_depths = it.chain(widths_depths0, widths_depths1)\n",
    "\n",
    "for width, depth in widths_depths:\n",
    "    hidden_units = [width] * depth\n",
    "    # i.e. the number of fine grid points:\n",
    "    logits = (ml.fine_grid_fineness.t + 1) * (ml.fine_grid_fineness.x + 1)\n",
    "    processor = ml.ScaleCenter()\n",
    "    activation = tf.nn.crelu\n",
    "\n",
    "    ### Training hyperparameters #1\n",
    "    drop_rate = 0.0\n",
    "    drop_type = 'dropout'\n",
    "    gradient_clip = 1.0  # May be set to None to turn off gradient clipping\n",
    "\n",
    "    ### Logging/saving hyperparameters\n",
    "    log_steps = 1000  # How many steps to print the current loss.\n",
    "    model_dir_base = './saved_models/grid_multi_peakon/'\n",
    "    uuid = None\n",
    "    model_dir = ml.model_dir_str(model_dir_base, hidden_units, logits,\n",
    "                                 processor=processor, activation=activation, \n",
    "                                 uuid=uuid)\n",
    "\n",
    "    compile_kwargs = {'gradient_clip': gradient_clip,\n",
    "                      'processor': processor,\n",
    "                      'model_dir': model_dir}\n",
    "    dnn_factory = ml.DNNFactory(hidden_units, logits, drop_rate=drop_rate,\n",
    "                                drop_type=drop_type, log_steps=log_steps, \n",
    "                                activation=activation, batch_norm=False,\n",
    "                                compile_kwargs=compile_kwargs)\n",
    "\n",
    "    max_steps = 0\n",
    "    if TRAIN:\n",
    "        ### Training hyperparameters #2\n",
    "        batch_size = 50\n",
    "        max_steps += 5000\n",
    "        learning_rate = 0.001\n",
    "        with ml.BatchData.context(gen_one_data=ml.gen_peakons_on_grid, \n",
    "                                  batch_size=batch_size) as train_input_fn:\n",
    "            dnn = dnn_factory(learning_rate=learning_rate)\n",
    "            dnn.train(input_fn=train_input_fn, max_steps=max_steps)\n",
    "\n",
    "        batch_size = 500\n",
    "        max_steps += 5000\n",
    "        learning_rate = 0.001\n",
    "        with ml.BatchData.context(gen_one_data=ml.gen_peakons_on_grid, \n",
    "                                  batch_size=batch_size) as train_input_fn:\n",
    "            dnn = dnn_factory(learning_rate=learning_rate)\n",
    "            dnn.train(input_fn=train_input_fn, max_steps=max_steps)\n",
    "\n",
    "        batch_size = 500\n",
    "        max_steps += 5000\n",
    "        learning_rate = 0.0001\n",
    "        with ml.BatchData.context(gen_one_data=ml.gen_peakons_on_grid, \n",
    "                                  batch_size=batch_size) as train_input_fn:\n",
    "            dnn = dnn_factory(learning_rate=learning_rate)\n",
    "            dnn.train(input_fn=train_input_fn, max_steps=max_steps)"
   ]
  }
 ],
 "metadata": {
  "kernelspec": {
   "display_name": "Python 3",
   "language": "python",
   "name": "python3"
  },
  "language_info": {
   "codemirror_mode": {
    "name": "ipython",
    "version": 3
   },
   "file_extension": ".py",
   "mimetype": "text/x-python",
   "name": "python",
   "nbconvert_exporter": "python",
   "pygments_lexer": "ipython3",
   "version": "3.6.6"
  }
 },
 "nbformat": 4,
 "nbformat_minor": 2
}
