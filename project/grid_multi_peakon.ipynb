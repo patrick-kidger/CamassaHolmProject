{
 "cells": [
  {
   "cell_type": "code",
   "execution_count": 1,
   "metadata": {},
   "outputs": [],
   "source": [
    "# As single_peakon, but trained on multipeakons!"
   ]
  },
  {
   "cell_type": "code",
   "execution_count": 2,
   "metadata": {},
   "outputs": [],
   "source": [
    "%run base/base_eq.ipynb\n",
    "%run base/base_plot.ipynb\n",
    "%run base/base_ml.ipynb"
   ]
  },
  {
   "cell_type": "code",
   "execution_count": 3,
   "metadata": {},
   "outputs": [],
   "source": [
    "# Set to False to use existing weights for the neural network.\n",
    "# Set to True to continue training the weights from where we left off last time.\n",
    "TRAIN = True"
   ]
  },
  {
   "cell_type": "code",
   "execution_count": 4,
   "metadata": {},
   "outputs": [],
   "source": [
    "def gen_one_peakon_on_grid():\n",
    "    \"\"\"Returns a (feature, label) pair, where the features are the values of\n",
    "    a single-peakon solution on a coarse grid, and the labels are the values of\n",
    "    the single-peakon solution on a fine grid.\n",
    "    \"\"\"\n",
    "    point, peakon = gen_one_peakon()\n",
    "    return sol_on_grid(point, peakon)\n",
    "\n",
    "def gen_two_peakon_on_grid():\n",
    "    \"\"\"Returns a (feature, label) pair, where the features are the values of\n",
    "    a two-peakon solution on a coarse grid, and the labels are the values of\n",
    "    the two-peakon solution on a fine grid.\n",
    "    \"\"\"\n",
    "    point, twopeakon = gen_two_peakon()\n",
    "    return sol_on_grid(point, twopeakon)\n",
    "\n",
    "def gen_one_data():\n",
    "    return tools.random_function(gen_one_peakon_on_grid, gen_two_peakon_on_grid)"
   ]
  },
  {
   "cell_type": "code",
   "execution_count": null,
   "metadata": {},
   "outputs": [],
   "source": [
    "### DNN hyperparameters\n",
    "hidden_units = [600] * 3\n",
    "# i.e. the number of fine grid points:\n",
    "logits = (fine_grid_fineness.t + 1) * (fine_grid_fineness.x + 1)\n",
    "processor = IdentityProcessor()\n",
    "activation = tf.nn.crelu\n",
    "\n",
    "### Training hyperparameters #1\n",
    "drop_rate = 0.0\n",
    "drop_type = 'dropout'\n",
    "gradient_clip = 1.0  # May be set to None to turn off gradient clipping\n",
    "\n",
    "### Logging/saving hyperparameters\n",
    "log_steps = 1000  # How many steps to print the current loss.\n",
    "model_dir_base = './saved_models/grid_multi_peakon_dnn_hyperparameter_testing/'\n",
    "uuid = None\n",
    "model_dir = model_dir_str(model_dir_base, hidden_units, logits,\n",
    "                          processor=processor, activation=activation, \n",
    "                          uuid=uuid)\n",
    "\n",
    "dnn_creator = DNNFactory(hidden_units, logits, drop_rate=drop_rate,\n",
    "                         drop_type=drop_type, model_dir=model_dir, \n",
    "                         log_steps=log_steps, activation=activation, \n",
    "                         gradient_clip=gradient_clip, batch_norm=False,\n",
    "                         processor=processor)\n",
    "\n",
    "max_steps = 0\n",
    "if TRAIN:\n",
    "    ### Training hyperparameters #2\n",
    "    batch_size = 500\n",
    "    max_steps += 5000\n",
    "    train_input_fn = BatchData.from_func(gen_one_data=gen_one_data, batch_size=batch_size)\n",
    "    dnn = dnn_creator()\n",
    "    dnn.train(input_fn=train_input_fn, max_steps=max_steps)\n",
    "\n",
    "    batch_size = 1000\n",
    "    max_steps += 5000\n",
    "    train_input_fn = BatchData.from_func(gen_one_data=gen_one_data, batch_size=batch_size)\n",
    "    dnn = dnn_creator()\n",
    "    dnn.train(input_fn=train_input_fn, max_steps=max_steps)\n",
    "\n",
    "    batch_size = 3000\n",
    "    max_steps += 10000\n",
    "    train_input_fn = BatchData.from_func(gen_one_data=gen_one_data, batch_size=batch_size)\n",
    "    dnn = dnn_creator()\n",
    "    dnn.train(input_fn=train_input_fn, max_steps=max_steps)"
   ]
  }
 ],
 "metadata": {
  "kernelspec": {
   "display_name": "Python 3",
   "language": "python",
   "name": "python3"
  },
  "language_info": {
   "codemirror_mode": {
    "name": "ipython",
    "version": 3
   },
   "file_extension": ".py",
   "mimetype": "text/x-python",
   "name": "python",
   "nbconvert_exporter": "python",
   "pygments_lexer": "ipython3",
   "version": "3.6.6"
  }
 },
 "nbformat": 4,
 "nbformat_minor": 2
}
