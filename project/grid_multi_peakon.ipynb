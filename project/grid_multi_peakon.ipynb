{
 "cells": [
  {
   "cell_type": "code",
   "execution_count": 1,
   "metadata": {},
   "outputs": [],
   "source": [
    "# As single_peakon, but trained on multipeakons!"
   ]
  },
  {
   "cell_type": "code",
   "execution_count": 2,
   "metadata": {},
   "outputs": [],
   "source": [
    "%run base/base_eq.ipynb\n",
    "%run base/base_plot.ipynb\n",
    "%run base/base_ml.ipynb"
   ]
  },
  {
   "cell_type": "code",
   "execution_count": 3,
   "metadata": {},
   "outputs": [],
   "source": [
    "# Set to False to use existing weights for the neural network.\n",
    "# Set to True to continue training the weights from where we left off last time.\n",
    "TRAIN = True"
   ]
  },
  {
   "cell_type": "code",
   "execution_count": 4,
   "metadata": {},
   "outputs": [],
   "source": [
    "def gen_one_peakon_on_grid():\n",
    "    \"\"\"Returns a (feature, label) pair, where the features are the values of\n",
    "    a single-peakon solution on a coarse grid, and the labels are the values of\n",
    "    the single-peakon solution on a fine grid.\n",
    "    \"\"\"\n",
    "    point, peakon = gen_one_peakon()\n",
    "    return sol_on_grid(point, peakon)\n",
    "\n",
    "def gen_two_peakon_on_grid():\n",
    "    \"\"\"Returns a (feature, label) pair, where the features are the values of\n",
    "    a two-peakon solution on a coarse grid, and the labels are the values of\n",
    "    the two-peakon solution on a fine grid.\n",
    "    \"\"\"\n",
    "    point, twopeakon = gen_two_peakon()\n",
    "    return sol_on_grid(point, twopeakon)\n",
    "\n",
    "def gen_one_data():\n",
    "    return tools.random_function(gen_one_peakon_on_grid, gen_two_peakon_on_grid)"
   ]
  },
  {
   "cell_type": "code",
   "execution_count": null,
   "metadata": {},
   "outputs": [
    {
     "name": "stdout",
     "output_type": "stream",
     "text": [
      "INFO:tensorflow:Using config: {'_model_dir': './saved_models/grid_multi_peakon_dnn_hyperparameter_testing/400x2_121__NormalisationOverall_crelu', '_tf_random_seed': None, '_save_summary_steps': 100, '_save_checkpoints_steps': None, '_save_checkpoints_secs': 600, '_session_config': None, '_keep_checkpoint_max': 5, '_keep_checkpoint_every_n_hours': 10000, '_log_step_count_steps': 1000, '_train_distribute': None, '_device_fn': None, '_service': None, '_cluster_spec': <tensorflow.python.training.server_lib.ClusterSpec object at 0x7f6efd2f2940>, '_task_type': 'worker', '_task_id': 0, '_global_id_in_cluster': 0, '_master': '', '_evaluation_master': '', '_is_chief': True, '_num_ps_replicas': 0, '_num_worker_replicas': 1}\n",
      "INFO:tensorflow:Skipping training since max_steps has already saved.\n",
      "INFO:tensorflow:Using config: {'_model_dir': './saved_models/grid_multi_peakon_dnn_hyperparameter_testing/400x2_121__NormalisationOverall_crelu', '_tf_random_seed': None, '_save_summary_steps': 100, '_save_checkpoints_steps': None, '_save_checkpoints_secs': 600, '_session_config': None, '_keep_checkpoint_max': 5, '_keep_checkpoint_every_n_hours': 10000, '_log_step_count_steps': 1000, '_train_distribute': None, '_device_fn': None, '_service': None, '_cluster_spec': <tensorflow.python.training.server_lib.ClusterSpec object at 0x7f6efd294978>, '_task_type': 'worker', '_task_id': 0, '_global_id_in_cluster': 0, '_master': '', '_evaluation_master': '', '_is_chief': True, '_num_ps_replicas': 0, '_num_worker_replicas': 1}\n",
      "INFO:tensorflow:Skipping training since max_steps has already saved.\n",
      "INFO:tensorflow:Using config: {'_model_dir': './saved_models/grid_multi_peakon_dnn_hyperparameter_testing/400x2_121__NormalisationOverall_crelu', '_tf_random_seed': None, '_save_summary_steps': 100, '_save_checkpoints_steps': None, '_save_checkpoints_secs': 600, '_session_config': None, '_keep_checkpoint_max': 5, '_keep_checkpoint_every_n_hours': 10000, '_log_step_count_steps': 1000, '_train_distribute': None, '_device_fn': None, '_service': None, '_cluster_spec': <tensorflow.python.training.server_lib.ClusterSpec object at 0x7f6efd260240>, '_task_type': 'worker', '_task_id': 0, '_global_id_in_cluster': 0, '_master': '', '_evaluation_master': '', '_is_chief': True, '_num_ps_replicas': 0, '_num_worker_replicas': 1}\n",
      "INFO:tensorflow:Calling model_fn.\n",
      "INFO:tensorflow:Done calling model_fn.\n",
      "INFO:tensorflow:Create CheckpointSaverHook.\n",
      "INFO:tensorflow:Graph was finalized.\n",
      "INFO:tensorflow:Restoring parameters from ./saved_models/grid_multi_peakon_dnn_hyperparameter_testing/400x2_121__NormalisationOverall_crelu/model.ckpt-12937\n",
      "INFO:tensorflow:Running local_init_op.\n",
      "INFO:tensorflow:Done running local_init_op.\n",
      "INFO:tensorflow:Saving checkpoints for 12937 into ./saved_models/grid_multi_peakon_dnn_hyperparameter_testing/400x2_121__NormalisationOverall_crelu/model.ckpt.\n",
      "INFO:tensorflow:Saving processor checkpoint for 12937 into ./saved_models/grid_multi_peakon_dnn_hyperparameter_testing/400x2_121__NormalisationOverall_crelu/processor/processor-checkpoint.ckpt\n",
      "INFO:tensorflow:loss = 2.847923e-05, step = 12938\n",
      "INFO:tensorflow:Saving checkpoints for 13456 into ./saved_models/grid_multi_peakon_dnn_hyperparameter_testing/400x2_121__NormalisationOverall_crelu/model.ckpt.\n",
      "INFO:tensorflow:Saving processor checkpoint for 13456 into ./saved_models/grid_multi_peakon_dnn_hyperparameter_testing/400x2_121__NormalisationOverall_crelu/processor/processor-checkpoint.ckpt\n",
      "INFO:tensorflow:global_step/sec: 0.852081\n",
      "INFO:tensorflow:loss = 4.7035574e-05, step = 13938 (1173.599 sec)\n",
      "INFO:tensorflow:Saving checkpoints for 13960 into ./saved_models/grid_multi_peakon_dnn_hyperparameter_testing/400x2_121__NormalisationOverall_crelu/model.ckpt.\n",
      "INFO:tensorflow:Saving processor checkpoint for 13960 into ./saved_models/grid_multi_peakon_dnn_hyperparameter_testing/400x2_121__NormalisationOverall_crelu/processor/processor-checkpoint.ckpt\n",
      "INFO:tensorflow:Saving checkpoints for 14461 into ./saved_models/grid_multi_peakon_dnn_hyperparameter_testing/400x2_121__NormalisationOverall_crelu/model.ckpt.\n",
      "INFO:tensorflow:Saving processor checkpoint for 14461 into ./saved_models/grid_multi_peakon_dnn_hyperparameter_testing/400x2_121__NormalisationOverall_crelu/processor/processor-checkpoint.ckpt\n",
      "INFO:tensorflow:global_step/sec: 0.84489\n",
      "INFO:tensorflow:loss = 4.382634e-05, step = 14938 (1183.586 sec)\n",
      "INFO:tensorflow:Saving checkpoints for 14976 into ./saved_models/grid_multi_peakon_dnn_hyperparameter_testing/400x2_121__NormalisationOverall_crelu/model.ckpt.\n",
      "INFO:tensorflow:Saving processor checkpoint for 14976 into ./saved_models/grid_multi_peakon_dnn_hyperparameter_testing/400x2_121__NormalisationOverall_crelu/processor/processor-checkpoint.ckpt\n",
      "INFO:tensorflow:Saving checkpoints for 15493 into ./saved_models/grid_multi_peakon_dnn_hyperparameter_testing/400x2_121__NormalisationOverall_crelu/model.ckpt.\n",
      "INFO:tensorflow:Saving processor checkpoint for 15493 into ./saved_models/grid_multi_peakon_dnn_hyperparameter_testing/400x2_121__NormalisationOverall_crelu/processor/processor-checkpoint.ckpt\n",
      "INFO:tensorflow:global_step/sec: 0.851793\n",
      "INFO:tensorflow:loss = 3.9743903e-05, step = 15938 (1173.997 sec)\n",
      "INFO:tensorflow:Saving checkpoints for 15998 into ./saved_models/grid_multi_peakon_dnn_hyperparameter_testing/400x2_121__NormalisationOverall_crelu/model.ckpt.\n",
      "INFO:tensorflow:Saving processor checkpoint for 15998 into ./saved_models/grid_multi_peakon_dnn_hyperparameter_testing/400x2_121__NormalisationOverall_crelu/processor/processor-checkpoint.ckpt\n",
      "INFO:tensorflow:Saving checkpoints for 16515 into ./saved_models/grid_multi_peakon_dnn_hyperparameter_testing/400x2_121__NormalisationOverall_crelu/model.ckpt.\n",
      "INFO:tensorflow:Saving processor checkpoint for 16515 into ./saved_models/grid_multi_peakon_dnn_hyperparameter_testing/400x2_121__NormalisationOverall_crelu/processor/processor-checkpoint.ckpt\n",
      "INFO:tensorflow:Saving checkpoints for 16926 into ./saved_models/grid_multi_peakon_dnn_hyperparameter_testing/400x2_121__NormalisationOverall_crelu/model.ckpt.\n",
      "INFO:tensorflow:Saving processor checkpoint for 16926 into ./saved_models/grid_multi_peakon_dnn_hyperparameter_testing/400x2_121__NormalisationOverall_crelu/processor/processor-checkpoint.ckpt\n",
      "INFO:tensorflow:global_step/sec: 0.771363\n",
      "INFO:tensorflow:loss = 5.130362e-05, step = 16938 (1296.408 sec)\n",
      "INFO:tensorflow:Saving checkpoints for 17402 into ./saved_models/grid_multi_peakon_dnn_hyperparameter_testing/400x2_121__NormalisationOverall_crelu/model.ckpt.\n",
      "INFO:tensorflow:Saving processor checkpoint for 17402 into ./saved_models/grid_multi_peakon_dnn_hyperparameter_testing/400x2_121__NormalisationOverall_crelu/processor/processor-checkpoint.ckpt\n",
      "INFO:tensorflow:Saving checkpoints for 17906 into ./saved_models/grid_multi_peakon_dnn_hyperparameter_testing/400x2_121__NormalisationOverall_crelu/model.ckpt.\n",
      "INFO:tensorflow:Saving processor checkpoint for 17906 into ./saved_models/grid_multi_peakon_dnn_hyperparameter_testing/400x2_121__NormalisationOverall_crelu/processor/processor-checkpoint.ckpt\n",
      "INFO:tensorflow:global_step/sec: 0.822974\n",
      "INFO:tensorflow:loss = 3.489057e-05, step = 17938 (1215.109 sec)\n",
      "INFO:tensorflow:Saving checkpoints for 18421 into ./saved_models/grid_multi_peakon_dnn_hyperparameter_testing/400x2_121__NormalisationOverall_crelu/model.ckpt.\n",
      "INFO:tensorflow:Saving processor checkpoint for 18421 into ./saved_models/grid_multi_peakon_dnn_hyperparameter_testing/400x2_121__NormalisationOverall_crelu/processor/processor-checkpoint.ckpt\n",
      "INFO:tensorflow:Saving checkpoints for 18926 into ./saved_models/grid_multi_peakon_dnn_hyperparameter_testing/400x2_121__NormalisationOverall_crelu/model.ckpt.\n",
      "INFO:tensorflow:Saving processor checkpoint for 18926 into ./saved_models/grid_multi_peakon_dnn_hyperparameter_testing/400x2_121__NormalisationOverall_crelu/processor/processor-checkpoint.ckpt\n",
      "INFO:tensorflow:global_step/sec: 0.849346\n",
      "INFO:tensorflow:loss = 3.544713e-05, step = 18938 (1177.369 sec)\n",
      "INFO:tensorflow:Saving checkpoints for 19436 into ./saved_models/grid_multi_peakon_dnn_hyperparameter_testing/400x2_121__NormalisationOverall_crelu/model.ckpt.\n",
      "INFO:tensorflow:Saving processor checkpoint for 19436 into ./saved_models/grid_multi_peakon_dnn_hyperparameter_testing/400x2_121__NormalisationOverall_crelu/processor/processor-checkpoint.ckpt\n"
     ]
    }
   ],
   "source": [
    "for network_width in [400, 800, 1200]:\n",
    "    for networth_depth in [2, 4, 6]:\n",
    "        ### DNN hyperparameters\n",
    "        hidden_units = [network_width] * networth_depth\n",
    "        # i.e. the number of fine grid points:\n",
    "        logits = (fine_grid_fineness.t + 1) * (fine_grid_fineness.x + 1)\n",
    "        processor = NormalisationOverall(momentum=0.999)\n",
    "        activation = tf.nn.crelu\n",
    "\n",
    "        ### Training hyperparameters #1\n",
    "        drop_rate = 0.0\n",
    "        drop_type = 'dropout'\n",
    "        gradient_clip = 1.0  # May be set to None to turn off gradient clipping\n",
    "\n",
    "        ### Logging/saving hyperparameters\n",
    "        log_steps = 1000  # How many steps to print the current loss.\n",
    "        model_dir_base = './saved_models/grid_multi_peakon_dnn_hyperparameter_testing/'\n",
    "        uuid = None\n",
    "        model_dir = model_dir_str(model_dir_base, hidden_units, logits,\n",
    "                                  processor=processor, activation=activation, \n",
    "                                  uuid=uuid)\n",
    "\n",
    "        dnn_factory = DNNFactory(hidden_units, logits, drop_rate=drop_rate,\n",
    "                                 drop_type=drop_type, model_dir=model_dir, \n",
    "                                 log_steps=log_steps, activation=activation, \n",
    "                                 gradient_clip=gradient_clip, batch_norm=False,\n",
    "                                 processor=processor)\n",
    "\n",
    "        max_steps = 0\n",
    "        if TRAIN:\n",
    "            ### Training hyperparameters #2\n",
    "            batch_size = 50\n",
    "            max_steps += 5000\n",
    "            train_input_fn = BatchData.from_func(gen_one_data=gen_one_data, batch_size=batch_size)\n",
    "            dnn = dnn_factory()\n",
    "            dnn.train(input_fn=train_input_fn, max_steps=max_steps)\n",
    "\n",
    "            batch_size = 500\n",
    "            max_steps += 5000\n",
    "            train_input_fn = BatchData.from_func(gen_one_data=gen_one_data, batch_size=batch_size)\n",
    "            dnn = dnn_factory()\n",
    "            dnn.train(input_fn=train_input_fn, max_steps=max_steps)\n",
    "\n",
    "            batch_size = 2000\n",
    "            max_steps += 10000\n",
    "            train_input_fn = BatchData.from_func(gen_one_data=gen_one_data, batch_size=batch_size)\n",
    "            dnn = dnn_factory()\n",
    "            dnn.train(input_fn=train_input_fn, max_steps=max_steps)"
   ]
  },
  {
   "cell_type": "code",
   "execution_count": null,
   "metadata": {},
   "outputs": [],
   "source": []
  }
 ],
 "metadata": {
  "kernelspec": {
   "display_name": "Python 3",
   "language": "python",
   "name": "python3"
  },
  "language_info": {
   "codemirror_mode": {
    "name": "ipython",
    "version": 3
   },
   "file_extension": ".py",
   "mimetype": "text/x-python",
   "name": "python",
   "nbconvert_exporter": "python",
   "pygments_lexer": "ipython3",
   "version": "3.6.6"
  }
 },
 "nbformat": 4,
 "nbformat_minor": 2
}
