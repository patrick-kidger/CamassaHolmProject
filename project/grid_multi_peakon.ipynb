{
 "cells": [
  {
   "cell_type": "code",
   "execution_count": 1,
   "metadata": {},
   "outputs": [],
   "source": [
    "import tensorflow as tf\n",
    "\n",
    "# https://github.com/patrick-kidger/tools\n",
    "import tools\n",
    "\n",
    "from base import ml"
   ]
  },
  {
   "cell_type": "code",
   "execution_count": 2,
   "metadata": {},
   "outputs": [],
   "source": [
    "# Set to False to use existing weights for the neural network.\n",
    "# Set to True to continue training the weights from where we left off last time.\n",
    "TRAIN = True"
   ]
  },
  {
   "cell_type": "code",
   "execution_count": 3,
   "metadata": {},
   "outputs": [
    {
     "ename": "AttributeError",
     "evalue": "type object 'BatchData' has no attribute 'from_func'",
     "output_type": "error",
     "traceback": [
      "\u001b[0;31m---------------------------------------------------------------------------\u001b[0m",
      "\u001b[0;31mAttributeError\u001b[0m                            Traceback (most recent call last)",
      "\u001b[0;32m<ipython-input-3-3a0a1e7069ad>\u001b[0m in \u001b[0;36m<module>\u001b[0;34m()\u001b[0m\n\u001b[1;32m     32\u001b[0m             \u001b[0mbatch_size\u001b[0m \u001b[0;34m=\u001b[0m \u001b[0;36m50\u001b[0m\u001b[0;34m\u001b[0m\u001b[0m\n\u001b[1;32m     33\u001b[0m             \u001b[0mmax_steps\u001b[0m \u001b[0;34m+=\u001b[0m \u001b[0;36m5000\u001b[0m\u001b[0;34m\u001b[0m\u001b[0m\n\u001b[0;32m---> 34\u001b[0;31m             train_input_fn = ml.BatchData.from_func(gen_one_data=ml.gen_peakons_on_grid, \n\u001b[0m\u001b[1;32m     35\u001b[0m                                                     batch_size=batch_size)\n\u001b[1;32m     36\u001b[0m             \u001b[0mdnn\u001b[0m \u001b[0;34m=\u001b[0m \u001b[0mdnn_factory\u001b[0m\u001b[0;34m(\u001b[0m\u001b[0;34m)\u001b[0m\u001b[0;34m\u001b[0m\u001b[0m\n",
      "\u001b[0;31mAttributeError\u001b[0m: type object 'BatchData' has no attribute 'from_func'"
     ]
    }
   ],
   "source": [
    "### DNN hyperparameters\n",
    "hidden_units = [100] * 7\n",
    "# i.e. the number of fine grid points:\n",
    "logits = (ml.fine_grid_fineness.t + 1) * (ml.fine_grid_fineness.x + 1)\n",
    "processor = ml.ScaleCenter()\n",
    "activation = tf.nn.crelu\n",
    "\n",
    "### Training hyperparameters #1\n",
    "drop_rate = 0.0\n",
    "drop_type = 'dropout'\n",
    "gradient_clip = 1.0  # May be set to None to turn off gradient clipping\n",
    "\n",
    "### Logging/saving hyperparameters\n",
    "log_steps = 1000  # How many steps to print the current loss.\n",
    "model_dir_base = './saved_models/grid_multi_peakon/'\n",
    "uuid = None\n",
    "model_dir = ml.model_dir_str(model_dir_base, hidden_units, logits,\n",
    "                             processor=processor, activation=activation, \n",
    "                             uuid=uuid)\n",
    "\n",
    "dnn_factory = ml.DNNFactory(hidden_units, logits, drop_rate=drop_rate,\n",
    "                            drop_type=drop_type, model_dir=model_dir, \n",
    "                            log_steps=log_steps, activation=activation, \n",
    "                            gradient_clip=gradient_clip, batch_norm=False,\n",
    "                            processor=processor)\n",
    "\n",
    "max_steps = 0\n",
    "if TRAIN:\n",
    "    ### Training hyperparameters #2\n",
    "    batch_size = 50\n",
    "    max_steps += 5000\n",
    "    with ml.BatchData.context(gen_one_data=ml.gen_peakons_on_grid, \n",
    "                              batch_size=batch_size) as train_input_fn:\n",
    "        dnn = dnn_factory()\n",
    "        dnn.train(input_fn=train_input_fn, max_steps=max_steps)\n",
    "\n",
    "    batch_size = 500\n",
    "    max_steps += 5000\n",
    "    with ml.BatchData.context(gen_one_data=ml.gen_peakons_on_grid, \n",
    "                              batch_size=batch_size) as train_input_fn:\n",
    "        dnn = dnn_factory()\n",
    "        dnn.train(input_fn=train_input_fn, max_steps=max_steps)\n",
    "\n",
    "    batch_size = 1500\n",
    "    max_steps += 3000\n",
    "    with ml.BatchData.context(gen_one_data=ml.gen_peakons_on_grid, \n",
    "                              batch_size=batch_size) as train_input_fn:\n",
    "        dnn = dnn_factory()\n",
    "        dnn.train(input_fn=train_input_fn, max_steps=max_steps)"
   ]
  }
 ],
 "metadata": {
  "kernelspec": {
   "display_name": "Python 3",
   "language": "python",
   "name": "python3"
  },
  "language_info": {
   "codemirror_mode": {
    "name": "ipython",
    "version": 3
   },
   "file_extension": ".py",
   "mimetype": "text/x-python",
   "name": "python",
   "nbconvert_exporter": "python",
   "pygments_lexer": "ipython3",
   "version": "3.6.6"
  }
 },
 "nbformat": 4,
 "nbformat_minor": 2
}
