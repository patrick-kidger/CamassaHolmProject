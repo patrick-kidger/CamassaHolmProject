{
 "cells": [
  {
   "cell_type": "code",
   "execution_count": 3,
   "metadata": {},
   "outputs": [],
   "source": [
    "import ipympl\n",
    "%matplotlib widget\n",
    "import matplotlib.pyplot as plt\n",
    "# Has side effects allowing for 3D plots\n",
    "from mpl_toolkits.mplot3d import Axes3D"
   ]
  },
  {
   "cell_type": "code",
   "execution_count": 11,
   "metadata": {},
   "outputs": [],
   "source": [
    "def make_3d_ax_for_grid_plotting(fig, loc=(1, 1, 1)):\n",
    "    \"\"\"Creates an axis to start plotting on.\"\"\"\n",
    "    ax = fig.add_subplot(*loc, projection='3d')\n",
    "    t_list, x_list = list(zip(*coarse_grid((0, 0))))\n",
    "    ax.set_ylim(min(t_list), max(t_list))\n",
    "    ax.set_xlim(min(x_list), max(x_list))\n",
    "    return ax\n",
    "\n",
    "\n",
    "def grid_plot(ax, data, cg_or_fg=None, label=''):\n",
    "    \"\"\"Plots some data according to either a coarse or fine grid.\"\"\"\n",
    "    \n",
    "    if cg_or_fg == 'cg':\n",
    "        grid = coarse_grid((0, 0))\n",
    "    elif cg_or_fg == 'fg':\n",
    "        grid = fine_grid((0, 0))\n",
    "    else:\n",
    "        raise RuntimeError(\"Argument cg_or_fg must be 'cg' or 'fg'.\")\n",
    "    ax.scatter(*zip(*grid), data, label=label)\n",
    "    \n",
    "# No idea what the actual name of this type of plot is called, but I'm calling it an\n",
    "# over plot.\n",
    "def over_plot(xvals, uvals, step, axis=True, offset=0.01):\n",
    "    fig = plt.figure(figsize=(10, 10))\n",
    "    ax = fig.add_subplot(1, 1, 1)\n",
    "    if not axis:\n",
    "        ax.axis('off')\n",
    "    for i in range(0, len(uvals), step):\n",
    "        zorder = len(uvals) - round(i / step)\n",
    "        offset_ = offset * i\n",
    "        ax.fill_between(xvals, offset_ + uvals[i], offset_, color='white', zorder=zorder)\n",
    "        ax.plot(xvals, offset_ + uvals[i], color='black', zorder=zorder)"
   ]
  }
 ],
 "metadata": {
  "kernelspec": {
   "display_name": "Python 3",
   "language": "python",
   "name": "python3"
  },
  "language_info": {
   "codemirror_mode": {
    "name": "ipython",
    "version": 3
   },
   "file_extension": ".py",
   "mimetype": "text/x-python",
   "name": "python",
   "nbconvert_exporter": "python",
   "pygments_lexer": "ipython3",
   "version": "3.6.6"
  }
 },
 "nbformat": 4,
 "nbformat_minor": 2
}
