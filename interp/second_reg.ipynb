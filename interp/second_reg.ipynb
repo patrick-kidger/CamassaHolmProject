{
 "cells": [
  {
   "cell_type": "code",
   "execution_count": 1,
   "metadata": {},
   "outputs": [],
   "source": [
    "# Given the values of a single peakon on a coarse grid, this DNN predicts the value of the peakon at a particular location.\n",
    "# Essentially, given the values shown by the @ and G symbols, and a location within the ... region, it will output its\n",
    "# prediction for the value at that location.\n",
    "# (In terms of the gen_one_data function below, then (t, x) is the location of the G symbol and (t2, x2) is the random\n",
    "# location within the ... region.)\n",
    "#\n",
    "#\n",
    "# @   @   @   @   @   @\n",
    "#\n",
    "#\n",
    "#\n",
    "# @   @   @   @   @   @\n",
    "#\n",
    "#       .........\n",
    "#       .       .\n",
    "# @   @ . @   @ . @   @\n",
    "#       .       .\n",
    "#       .       .\n",
    "#       .       .\n",
    "# @   @ . G   @ . @   @\n",
    "#       .       .\n",
    "#       .........\n",
    "#\n",
    "# @   @   @   @   @   @\n",
    "#\n",
    "#\n",
    "#\n",
    "# @   @   @   @   @   @"
   ]
  },
  {
   "cell_type": "code",
   "execution_count": 2,
   "metadata": {},
   "outputs": [],
   "source": [
    "%run project_base.ipynb"
   ]
  },
  {
   "cell_type": "code",
   "execution_count": 3,
   "metadata": {},
   "outputs": [],
   "source": [
    "# Set to False to use existing weights for the neural network.\n",
    "# Set to True to continue training the weights from where we left off last time.\n",
    "TRAIN = True"
   ]
  },
  {
   "cell_type": "code",
   "execution_count": 4,
   "metadata": {},
   "outputs": [],
   "source": [
    "def gen_one_data():\n",
    "    \"\"\"Generates a random feature/label combination.\n",
    "    \n",
    "    Here the feature is the solution on a coarse grid and a particular point\n",
    "    near the middle of that grid, and the label is the value at that point.\"\"\"\n",
    "        \n",
    "    # Random solution to the CH equation\n",
    "    c = np.random.uniform(0, 10)\n",
    "    peakon = Peakon(c=c)\n",
    "    # Random location\n",
    "    t = np.random.uniform(0, 40)\n",
    "    x = c * t + np.random.uniform(-2, 2)\n",
    "    \n",
    "    # Random offset from the random location that we ask for predictions at. See\n",
    "    # comment at the top of the notebook for why the distribution is asymmetric.\n",
    "    #\n",
    "    # This value is not scaled relative to the size of the grid as we expect\n",
    "    # that the predictions should be scale invariant, and we do not want the\n",
    "    # network to unnecessarily learn the size of coarse_grid_sep.\n",
    "    #\n",
    "    # This value is just the offset; as the network has no way of knowing the\n",
    "    # location of the grid then adding a translation would only confuse it.\n",
    "    x_offset = np.random.uniform(-0.5, 1.5)\n",
    "    t_offset = np.random.uniform(-0.5, 1.5)\n",
    "    \n",
    "    # Coarse grid at the location\n",
    "    cg = coarse_grid((t, x))\n",
    "    # Features: the solution on the coarse grid and the point to interpolate at.\n",
    "    X = peakon.on_grid(cg, extra=2)\n",
    "    X[-2] = t_offset\n",
    "    X[-1] = x_offset\n",
    "    \n",
    "    # Label: the solution at the interpolation point\n",
    "    y = np.array([peakon((t + t_offset * coarse_grid_sep.t, \n",
    "                          x + x_offset * coarse_grid_sep.x))])\n",
    "    \n",
    "    return X, y\n",
    "\n",
    "class BilinearInterp(BilinearInterpBase):\n",
    "    @classmethod\n",
    "    def _predict(cls, Xi):\n",
    "        # Separate the location data and the grid data\n",
    "        t_offset = Xi[-2]\n",
    "        x_offset = Xi[-1]\n",
    "        Xi = Xi[:-2]\n",
    "        # Wrapped in a list for consistency: this network just happens to only\n",
    "        # be trying to predict a single label.\n",
    "        return [cls._interp(Xi, (t_offset * coarse_grid_sep.t, \n",
    "                                 x_offset * coarse_grid_sep.x))]"
   ]
  },
  {
   "cell_type": "code",
   "execution_count": 5,
   "metadata": {},
   "outputs": [],
   "source": [
    "model_dir = './saved_models/second_reg/'\n",
    "\n",
    "# DNN hyperparameters\n",
    "hidden_units = [500] * 5 + [300] * 5\n",
    "logits = 1\n",
    "drop_rate = 0.4\n",
    "batch_size = 500\n",
    "batch_reuse = 1  # See BatchData for an explanation of batch reuse.\n",
    "steps = 20000\n",
    "log_steps = 1000  # How many steps to print the current loss.\n",
    "\n",
    "for layer in hidden_units:\n",
    "    model_dir += '{}_'.format(layer)\n",
    "model_dir += '{}_'.format(logits)\n",
    "\n",
    "model_dir += 'D0{}_'.format(int(drop_rate * 10))\n",
    "model_dir += 'BS{}_'.format(batch_size)\n",
    "model_dir += 'BR{}'.format(batch_reuse)\n",
    "\n",
    "k_init = tfi.truncated_normal(mean=0, stddev=0.06)\n",
    "model = Sequential()\n",
    "for units in hidden_units:\n",
    "    model.add(dense(units=units,\n",
    "                    activation=tf.nn.relu,\n",
    "                    kernel_initializer=k_init))\n",
    "    model.add_train(dropout(rate=drop_rate))\n",
    "model.add(dense(units=logits))"
   ]
  },
  {
   "cell_type": "code",
   "execution_count": 6,
   "metadata": {},
   "outputs": [
    {
     "name": "stdout",
     "output_type": "stream",
     "text": [
      "INFO:tensorflow:Using config: {'_model_dir': './saved_models/second_reg/500_500_500_500_500_300_300_300_300_300_1_D04_BS500_BR1', '_tf_random_seed': None, '_save_summary_steps': 100, '_save_checkpoints_steps': None, '_save_checkpoints_secs': 600, '_session_config': None, '_keep_checkpoint_max': 5, '_keep_checkpoint_every_n_hours': 10000, '_log_step_count_steps': 1000, '_train_distribute': None, '_service': None, '_cluster_spec': <tensorflow.python.training.server_lib.ClusterSpec object at 0x7f65430598d0>, '_task_type': 'worker', '_task_id': 0, '_global_id_in_cluster': 0, '_master': '', '_evaluation_master': '', '_is_chief': True, '_num_ps_replicas': 0, '_num_worker_replicas': 1}\n"
     ]
    }
   ],
   "source": [
    "dnn = model.compile(model_dir=model_dir, \n",
    "                    config=tfe.RunConfig(log_step_count_steps=log_steps)\n",
    "                   )"
   ]
  },
  {
   "cell_type": "code",
   "execution_count": 7,
   "metadata": {},
   "outputs": [],
   "source": [
    "train_input_fn = BatchData(gen_one_data, \n",
    "                           batch_size, \n",
    "                           batch_reuse\n",
    "                          )"
   ]
  },
  {
   "cell_type": "code",
   "execution_count": 8,
   "metadata": {},
   "outputs": [
    {
     "name": "stdout",
     "output_type": "stream",
     "text": [
      "INFO:tensorflow:Calling model_fn.\n",
      "INFO:tensorflow:Done calling model_fn.\n",
      "INFO:tensorflow:Create CheckpointSaverHook.\n",
      "INFO:tensorflow:Graph was finalized.\n",
      "INFO:tensorflow:Restoring parameters from ./saved_models/second_reg/500_500_500_500_500_300_300_300_300_300_1_D04_BS500_BR1/model.ckpt-14619\n",
      "INFO:tensorflow:Running local_init_op.\n",
      "INFO:tensorflow:Done running local_init_op.\n",
      "INFO:tensorflow:Saving checkpoints for 14620 into ./saved_models/second_reg/500_500_500_500_500_300_300_300_300_300_1_D04_BS500_BR1/model.ckpt.\n",
      "INFO:tensorflow:loss = 0.11425025, step = 14620\n",
      "INFO:tensorflow:Saving checkpoints for 15395 into ./saved_models/second_reg/500_500_500_500_500_300_300_300_300_300_1_D04_BS500_BR1/model.ckpt.\n",
      "INFO:tensorflow:global_step/sec: 1.28837\n",
      "INFO:tensorflow:loss = 0.11744919, step = 15620 (776.179 sec)\n",
      "INFO:tensorflow:Saving checkpoints for 16160 into ./saved_models/second_reg/500_500_500_500_500_300_300_300_300_300_1_D04_BS500_BR1/model.ckpt.\n",
      "INFO:tensorflow:global_step/sec: 1.27548\n",
      "INFO:tensorflow:loss = 0.07364414, step = 16620 (784.017 sec)\n",
      "INFO:tensorflow:Saving checkpoints for 16927 into ./saved_models/second_reg/500_500_500_500_500_300_300_300_300_300_1_D04_BS500_BR1/model.ckpt.\n",
      "INFO:tensorflow:global_step/sec: 1.27175\n",
      "INFO:tensorflow:loss = 0.076945916, step = 17620 (786.315 sec)\n",
      "INFO:tensorflow:Saving checkpoints for 17690 into ./saved_models/second_reg/500_500_500_500_500_300_300_300_300_300_1_D04_BS500_BR1/model.ckpt.\n",
      "INFO:tensorflow:Saving checkpoints for 18452 into ./saved_models/second_reg/500_500_500_500_500_300_300_300_300_300_1_D04_BS500_BR1/model.ckpt.\n",
      "INFO:tensorflow:global_step/sec: 1.27054\n",
      "INFO:tensorflow:loss = 0.09225228, step = 18620 (787.066 sec)\n",
      "INFO:tensorflow:Saving checkpoints for 19207 into ./saved_models/second_reg/500_500_500_500_500_300_300_300_300_300_1_D04_BS500_BR1/model.ckpt.\n",
      "INFO:tensorflow:global_step/sec: 1.2339\n",
      "INFO:tensorflow:loss = 0.09775181, step = 19620 (810.441 sec)\n",
      "INFO:tensorflow:Saving checkpoints for 19935 into ./saved_models/second_reg/500_500_500_500_500_300_300_300_300_300_1_D04_BS500_BR1/model.ckpt.\n",
      "INFO:tensorflow:Saving checkpoints for 20000 into ./saved_models/second_reg/500_500_500_500_500_300_300_300_300_300_1_D04_BS500_BR1/model.ckpt.\n",
      "INFO:tensorflow:Loss for final step: 0.07440508.\n"
     ]
    }
   ],
   "source": [
    "if TRAIN:\n",
    "    dnn.train(input_fn=train_input_fn,\n",
    "              max_steps=steps\n",
    "             )"
   ]
  },
  {
   "cell_type": "code",
   "execution_count": 12,
   "metadata": {},
   "outputs": [],
   "source": [
    "testing_data = gen_test_data(gen_one_data)"
   ]
  },
  {
   "cell_type": "code",
   "execution_count": 13,
   "metadata": {},
   "outputs": [
    {
     "name": "stdout",
     "output_type": "stream",
     "text": [
      "WARNING:tensorflow:Input graph does not use tf.data.Dataset or contain a QueueRunner. That means predict yields forever. This is probably a mistake.\n",
      "INFO:tensorflow:Calling model_fn.\n",
      "INFO:tensorflow:Done calling model_fn.\n",
      "INFO:tensorflow:Graph was finalized.\n",
      "INFO:tensorflow:Restoring parameters from ./saved_models/second_reg/500_500_500_500_500_300_300_300_300_300_1_D04_BS500_BR1/model.ckpt-20000\n",
      "INFO:tensorflow:Running local_init_op.\n",
      "INFO:tensorflow:Done running local_init_op.\n"
     ]
    },
    {
     "data": {
      "text/plain": [
       "{'prediction': array([[3.27869577]]),\n",
       " 'actual': array([[1.62915663]]),\n",
       " 'average_loss': 2.7209793662556723,\n",
       " 'loss': 2.7209793662556723}"
      ]
     },
     "execution_count": 13,
     "metadata": {},
     "output_type": "execute_result"
    }
   ],
   "source": [
    "test_regressor(testing_data, dnn)"
   ]
  },
  {
   "cell_type": "code",
   "execution_count": 14,
   "metadata": {},
   "outputs": [
    {
     "data": {
      "text/plain": [
       "{'prediction': array([[1.53983718]]),\n",
       " 'actual': array([[1.62915663]]),\n",
       " 'average_loss': 0.00797796496544269,\n",
       " 'loss': 0.00797796496544269}"
      ]
     },
     "execution_count": 14,
     "metadata": {},
     "output_type": "execute_result"
    }
   ],
   "source": [
    "test_regressor(testing_data, BilinearInterp)"
   ]
  },
  {
   "cell_type": "code",
   "execution_count": null,
   "metadata": {},
   "outputs": [],
   "source": []
  }
 ],
 "metadata": {
  "kernelspec": {
   "display_name": "Python 3",
   "language": "python",
   "name": "python3"
  },
  "language_info": {
   "codemirror_mode": {
    "name": "ipython",
    "version": 3
   },
   "file_extension": ".py",
   "mimetype": "text/x-python",
   "name": "python",
   "nbconvert_exporter": "python",
   "pygments_lexer": "ipython3",
   "version": "3.6.6"
  }
 },
 "nbformat": 4,
 "nbformat_minor": 2
}
