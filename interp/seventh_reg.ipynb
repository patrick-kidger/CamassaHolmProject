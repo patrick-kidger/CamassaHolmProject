{
 "cells": [
  {
   "cell_type": "code",
   "execution_count": 1,
   "metadata": {},
   "outputs": [],
   "source": [
    "# As first_reg, but with features and labels"
   ]
  },
  {
   "cell_type": "code",
   "execution_count": 2,
   "metadata": {},
   "outputs": [],
   "source": [
    "%run project_base.ipynb"
   ]
  },
  {
   "cell_type": "code",
   "execution_count": 3,
   "metadata": {},
   "outputs": [],
   "source": [
    "# Set to False to use existing weights for the neural network.\n",
    "# Set to True to continue training the weights from where we left off last time.\n",
    "TRAIN = True"
   ]
  },
  {
   "cell_type": "code",
   "execution_count": 4,
   "metadata": {},
   "outputs": [],
   "source": [
    "class BilinearInterp(FineGridPredictorMixin, BilinearInterpBase):\n",
    "    pass\n",
    "    \n",
    "    \n",
    "class NearestInterp(FineGridPredictorMixin, NearestInterpBase):\n",
    "    pass\n",
    "\n",
    "\n",
    "class PolyInterp(FineGridPredictorMixin, PolyInterpBase):\n",
    "    pass"
   ]
  },
  {
   "cell_type": "code",
   "execution_count": 5,
   "metadata": {},
   "outputs": [
    {
     "name": "stdout",
     "output_type": "stream",
     "text": [
      "INFO:tensorflow:Using config: {'_model_dir': './saved_models/seventh_reg/2000x10_121_D04_ScaleDataOverall', '_tf_random_seed': None, '_save_summary_steps': 100, '_save_checkpoints_steps': None, '_save_checkpoints_secs': 600, '_session_config': None, '_keep_checkpoint_max': 5, '_keep_checkpoint_every_n_hours': 10000, '_log_step_count_steps': 500, '_train_distribute': None, '_service': None, '_cluster_spec': <tensorflow.python.training.server_lib.ClusterSpec object at 0x7f935b4b67b8>, '_task_type': 'worker', '_task_id': 0, '_global_id_in_cluster': 0, '_master': '', '_evaluation_master': '', '_is_chief': True, '_num_ps_replicas': 0, '_num_worker_replicas': 1}\n",
      "INFO:tensorflow:Processor checkpoint file found, restoring values.\n"
     ]
    }
   ],
   "source": [
    "### DNN hyperparameters\n",
    "hidden_units = [2000] * 10\n",
    "# i.e. the number of fine grid points.\n",
    "logits = (fine_grid_fineness.t + 1) * (fine_grid_fineness.x + 1)\n",
    "drop_rate = 0.4\n",
    "batch_norm = False\n",
    "preprocessor = ScaleDataOverall()\n",
    "uuid = None\n",
    "\n",
    "### Training hyperparameters #1\n",
    "gradient_clip = 5.0  # May be set to None to turn off gradient clipping\n",
    "\n",
    "### Logging/saving hyperparameters\n",
    "log_steps = 500  # How many steps to print the current loss.\n",
    "model_dir = './saved_models/seventh_reg/'\n",
    "model_dir = model_dir_str(model_dir, hidden_units, logits, drop_rate, \n",
    "                          preprocessor, batch_norm, uuid=uuid)\n",
    "\n",
    "dnn = Sequential.create_dnn(hidden_units, logits, drop_rate=drop_rate,\n",
    "                            model_dir=model_dir, log_steps=log_steps,\n",
    "                            gradient_clip=gradient_clip, batch_norm=batch_norm)\n",
    "preprocessor.load(model_dir)"
   ]
  },
  {
   "cell_type": "code",
   "execution_count": null,
   "metadata": {},
   "outputs": [
    {
     "name": "stdout",
     "output_type": "stream",
     "text": [
      "INFO:tensorflow:Skipping training since max_steps has already saved.\n",
      "INFO:tensorflow:Calling model_fn.\n",
      "INFO:tensorflow:Done calling model_fn.\n",
      "INFO:tensorflow:Create CheckpointSaverHook.\n",
      "INFO:tensorflow:Graph was finalized.\n",
      "INFO:tensorflow:Restoring parameters from ./saved_models/seventh_reg/2000x10_121_D04_ScaleDataOverall/model.ckpt-3481\n",
      "INFO:tensorflow:Running local_init_op.\n",
      "INFO:tensorflow:Done running local_init_op.\n",
      "INFO:tensorflow:Saving processor checkpoint for 3481 into ./saved_models/seventh_reg/2000x10_121_D04_ScaleDataOverall\n",
      "INFO:tensorflow:Saving checkpoints for 3482 into ./saved_models/seventh_reg/2000x10_121_D04_ScaleDataOverall/model.ckpt.\n",
      "INFO:tensorflow:loss = 0.0045934333, step = 3482\n",
      "INFO:tensorflow:Saving processor checkpoint for 3720 into ./saved_models/seventh_reg/2000x10_121_D04_ScaleDataOverall\n",
      "INFO:tensorflow:Saving checkpoints for 3721 into ./saved_models/seventh_reg/2000x10_121_D04_ScaleDataOverall/model.ckpt.\n",
      "INFO:tensorflow:Saving processor checkpoint for 3958 into ./saved_models/seventh_reg/2000x10_121_D04_ScaleDataOverall\n",
      "INFO:tensorflow:Saving checkpoints for 3959 into ./saved_models/seventh_reg/2000x10_121_D04_ScaleDataOverall/model.ckpt.\n",
      "INFO:tensorflow:global_step/sec: 0.39634\n",
      "INFO:tensorflow:loss = 0.0029027052, step = 3982 (1261.544 sec)\n"
     ]
    }
   ],
   "source": [
    "if TRAIN:\n",
    "    ### Training hyperparameters #2\n",
    "    batch_size = 30\n",
    "    steps = 3000\n",
    "    train_input_fn = preprocessor.init(BatchData(batch_size=batch_size))\n",
    "    dnn.train(input_fn=train_input_fn(use_tf=True), max_steps=steps, \n",
    "              hooks=[ProcessorSavingHook(preprocessor, model_dir)])\n",
    "    \n",
    "    batch_size = 300\n",
    "    steps = 6000\n",
    "    train_input_fn = preprocessor.init(BatchData(batch_size=batch_size))\n",
    "    dnn.train(input_fn=train_input_fn(use_tf=True), max_steps=steps, \n",
    "              hooks=[ProcessorSavingHook(preprocessor, model_dir)])"
   ]
  },
  {
   "cell_type": "code",
   "execution_count": null,
   "metadata": {},
   "outputs": [],
   "source": [
    "poly_deg = 10\n",
    "results = plot_regressors([(Perfect(), None, 'Exact'),\n",
    "                           (dnn, preprocessor.training(False), 'DNN'),\n",
    "                           (BilinearInterp(), None, 'Bilinear'),\n",
    "                           (PolyInterp(poly_deg), None, 'Poly-{}'.format(poly_deg))],\n",
    "                          X_peak,\n",
    "                          y_peak)"
   ]
  },
  {
   "cell_type": "code",
   "execution_count": null,
   "metadata": {},
   "outputs": [],
   "source": [
    "results[1].loss, results[2].loss, results[3].loss"
   ]
  }
 ],
 "metadata": {
  "kernelspec": {
   "display_name": "Python 3",
   "language": "python",
   "name": "python3"
  },
  "language_info": {
   "codemirror_mode": {
    "name": "ipython",
    "version": 3
   },
   "file_extension": ".py",
   "mimetype": "text/x-python",
   "name": "python",
   "nbconvert_exporter": "python",
   "pygments_lexer": "ipython3",
   "version": "3.6.6"
  }
 },
 "nbformat": 4,
 "nbformat_minor": 2
}
