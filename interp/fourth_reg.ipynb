{
 "cells": [
  {
   "cell_type": "code",
   "execution_count": 1,
   "metadata": {},
   "outputs": [],
   "source": [
    "# As third_reg, but not trying to predict around the peak."
   ]
  },
  {
   "cell_type": "code",
   "execution_count": 2,
   "metadata": {},
   "outputs": [],
   "source": [
    "%run project_base.ipynb"
   ]
  },
  {
   "cell_type": "code",
   "execution_count": 3,
   "metadata": {},
   "outputs": [],
   "source": [
    "# Set to False to use existing weights for the neural network.\n",
    "# Set to True to continue training the weights from where we left off last time.\n",
    "TRAIN = True"
   ]
  },
  {
   "cell_type": "code",
   "execution_count": 4,
   "metadata": {},
   "outputs": [],
   "source": [
    "def gen_one_data():\n",
    "    \"\"\"Generates a random feature/label combination.\n",
    "    \n",
    "    Here the features are the solution on a coarse grid and the log of the\n",
    "    solution values, and the label is the log of the solution on a fine grid.\n",
    "    \"\"\"\n",
    "    \n",
    "    # Random solution to the CH equation\n",
    "    c = np.random.uniform(0, 10)\n",
    "    peakon = Peakon(c=c)\n",
    "    # Random location\n",
    "    t = np.random.uniform(0, 40)\n",
    "    x = c * t + tools.random_function(lambda: np.random.uniform(-5, -1), lambda:np.random.uniform(1, 5))\n",
    "    \n",
    "    # Grids at the location\n",
    "    cg = coarse_grid((t, x))\n",
    "    fg = fine_grid((t, x))\n",
    "    # Features: the solution on the coarse grid\n",
    "    X = peakon.on_grid(cg)\n",
    "    # Labels: the solution on the fine grid\n",
    "    y = peakon.on_grid(fg)\n",
    "    \n",
    "    return np.concatenate([X, np.log(X)]), np.log(y)\n",
    "\n",
    "# Note that bilinear interpolation is now interpolating log-values to find \n",
    "# log-values.\n",
    "class BilinearInterp(BilinearInterpBase):\n",
    "    @classmethod\n",
    "    def _predict(cls, Xi):\n",
    "        returnval = []\n",
    "        # Translation doesn't matter at this point so WLOG the fine grid is\n",
    "        # around 0, 0. (cls._interp makes the same assumption; these assumptions\n",
    "        # must be consistent)\n",
    "        for point in fine_grid((0, 0)):\n",
    "            returnval.append(cls._interp(Xi, point))\n",
    "        return returnval"
   ]
  },
  {
   "cell_type": "code",
   "execution_count": 5,
   "metadata": {},
   "outputs": [],
   "source": [
    "# DNN hyperparameters\n",
    "hidden_units = [1000] * 20\n",
    "logits = 121  # = (_fine_grid_fineness.t + 1) * (_fine_grid_fineness.x + 1)\n",
    "              # i.e. the number of fine grid points.\n",
    "drop_rate = 0.4\n",
    "\n",
    "# Logging/saving hyperparameters\n",
    "log_steps = 1000  # How many steps to print the current loss.\n",
    "model_dir = './saved_models/fourth_reg/'\n",
    "for layer in hidden_units:\n",
    "    model_dir += '{}_'.format(layer)\n",
    "model_dir += '{}_'.format(logits)\n",
    "model_dir += 'D0{}_'.format(int(drop_rate * 10))\n",
    "# model_dir += 'BS{}_'.format(batch_size)\n",
    "# model_dir += 'BR{}'.format(batch_reuse)\n",
    "\n",
    "k_init = tfi.truncated_normal(mean=0, stddev=0.05)\n",
    "model = Sequential()\n",
    "for units in hidden_units:\n",
    "    model.add(tfla.Dense(units=units,\n",
    "                         activation=ft.partial(tf.nn.leaky_relu, alpha=0.1),\n",
    "                         kernel_initializer=k_init))\n",
    "    model.add_train(tfla.Dropout(rate=drop_rate))\n",
    "model.add(tfla.Dense(units=logits))\n",
    "model.set_kwargs(model_dir=model_dir,\n",
    "                 config=tfe.RunConfig(log_step_count_steps=log_steps))"
   ]
  },
  {
   "cell_type": "code",
   "execution_count": 6,
   "metadata": {},
   "outputs": [
    {
     "name": "stdout",
     "output_type": "stream",
     "text": [
      "INFO:tensorflow:Using config: {'_model_dir': './saved_models/fourth_reg/1000_1000_1000_1000_1000_1000_1000_1000_1000_1000_1000_1000_1000_1000_1000_1000_1000_1000_1000_1000_121_D04_', '_tf_random_seed': None, '_save_summary_steps': 100, '_save_checkpoints_steps': None, '_save_checkpoints_secs': 600, '_session_config': None, '_keep_checkpoint_max': 5, '_keep_checkpoint_every_n_hours': 10000, '_log_step_count_steps': 1000, '_train_distribute': None, '_service': None, '_cluster_spec': <tensorflow.python.training.server_lib.ClusterSpec object at 0x7fc569fc9cc0>, '_task_type': 'worker', '_task_id': 0, '_global_id_in_cluster': 0, '_master': '', '_evaluation_master': '', '_is_chief': True, '_num_ps_replicas': 0, '_num_worker_replicas': 1}\n"
     ]
    }
   ],
   "source": [
    "dnn = model.compile()"
   ]
  },
  {
   "cell_type": "code",
   "execution_count": null,
   "metadata": {},
   "outputs": [
    {
     "name": "stdout",
     "output_type": "stream",
     "text": [
      "INFO:tensorflow:Calling model_fn.\n",
      "INFO:tensorflow:Done calling model_fn.\n",
      "INFO:tensorflow:Create CheckpointSaverHook.\n",
      "INFO:tensorflow:Graph was finalized.\n",
      "INFO:tensorflow:Restoring parameters from ./saved_models/fourth_reg/1000_1000_1000_1000_1000_1000_1000_1000_1000_1000_1000_1000_1000_1000_1000_1000_1000_1000_1000_1000_121_D04_/model.ckpt-1\n",
      "INFO:tensorflow:Running local_init_op.\n",
      "INFO:tensorflow:Done running local_init_op.\n",
      "INFO:tensorflow:Saving checkpoints for 2 into ./saved_models/fourth_reg/1000_1000_1000_1000_1000_1000_1000_1000_1000_1000_1000_1000_1000_1000_1000_1000_1000_1000_1000_1000_121_D04_/model.ckpt.\n",
      "INFO:tensorflow:loss = 186.2314, step = 2\n",
      "INFO:tensorflow:global_step/sec: 3.35732\n",
      "INFO:tensorflow:loss = 0.6234471, step = 1002 (297.859 sec)\n",
      "INFO:tensorflow:global_step/sec: 3.4404\n",
      "INFO:tensorflow:loss = 0.45757335, step = 2002 (290.664 sec)\n",
      "INFO:tensorflow:Saving checkpoints for 2040 into ./saved_models/fourth_reg/1000_1000_1000_1000_1000_1000_1000_1000_1000_1000_1000_1000_1000_1000_1000_1000_1000_1000_1000_1000_121_D04_/model.ckpt.\n",
      "INFO:tensorflow:global_step/sec: 3.21345\n",
      "INFO:tensorflow:loss = 0.4447, step = 3002 (311.192 sec)\n",
      "INFO:tensorflow:Saving checkpoints for 3961 into ./saved_models/fourth_reg/1000_1000_1000_1000_1000_1000_1000_1000_1000_1000_1000_1000_1000_1000_1000_1000_1000_1000_1000_1000_121_D04_/model.ckpt.\n",
      "INFO:tensorflow:global_step/sec: 3.19021\n",
      "INFO:tensorflow:loss = 0.8172132, step = 4002 (313.459 sec)\n",
      "INFO:tensorflow:global_step/sec: 3.2755\n",
      "INFO:tensorflow:loss = 0.5023815, step = 5002 (305.298 sec)\n",
      "INFO:tensorflow:Saving checkpoints for 5939 into ./saved_models/fourth_reg/1000_1000_1000_1000_1000_1000_1000_1000_1000_1000_1000_1000_1000_1000_1000_1000_1000_1000_1000_1000_121_D04_/model.ckpt.\n",
      "INFO:tensorflow:global_step/sec: 3.32554\n",
      "INFO:tensorflow:loss = 0.48392084, step = 6002 (300.702 sec)\n",
      "INFO:tensorflow:global_step/sec: 3.38315\n",
      "INFO:tensorflow:loss = 0.56153125, step = 7002 (295.583 sec)\n",
      "INFO:tensorflow:Saving checkpoints for 7956 into ./saved_models/fourth_reg/1000_1000_1000_1000_1000_1000_1000_1000_1000_1000_1000_1000_1000_1000_1000_1000_1000_1000_1000_1000_121_D04_/model.ckpt.\n",
      "INFO:tensorflow:global_step/sec: 3.32957\n",
      "INFO:tensorflow:loss = 0.59042877, step = 8002 (300.339 sec)\n",
      "INFO:tensorflow:global_step/sec: 3.25863\n",
      "INFO:tensorflow:loss = 0.44816154, step = 9002 (306.877 sec)\n",
      "INFO:tensorflow:Saving checkpoints for 9912 into ./saved_models/fourth_reg/1000_1000_1000_1000_1000_1000_1000_1000_1000_1000_1000_1000_1000_1000_1000_1000_1000_1000_1000_1000_121_D04_/model.ckpt.\n",
      "INFO:tensorflow:global_step/sec: 3.27021\n",
      "INFO:tensorflow:loss = 0.6626399, step = 10002 (305.791 sec)\n",
      "INFO:tensorflow:global_step/sec: 3.32114\n",
      "INFO:tensorflow:loss = 0.79556835, step = 11002 (301.102 sec)\n",
      "INFO:tensorflow:Saving checkpoints for 11899 into ./saved_models/fourth_reg/1000_1000_1000_1000_1000_1000_1000_1000_1000_1000_1000_1000_1000_1000_1000_1000_1000_1000_1000_1000_121_D04_/model.ckpt.\n",
      "INFO:tensorflow:global_step/sec: 3.28694\n",
      "INFO:tensorflow:loss = 0.3950836, step = 12002 (304.234 sec)\n",
      "INFO:tensorflow:global_step/sec: 3.25038\n",
      "INFO:tensorflow:loss = 0.6664081, step = 13002 (307.656 sec)\n",
      "INFO:tensorflow:Saving checkpoints for 13842 into ./saved_models/fourth_reg/1000_1000_1000_1000_1000_1000_1000_1000_1000_1000_1000_1000_1000_1000_1000_1000_1000_1000_1000_1000_121_D04_/model.ckpt.\n",
      "INFO:tensorflow:global_step/sec: 3.22088\n",
      "INFO:tensorflow:loss = 0.2900153, step = 14002 (310.474 sec)\n",
      "INFO:tensorflow:global_step/sec: 3.20781\n",
      "INFO:tensorflow:loss = 1.1471196, step = 15002 (311.739 sec)\n",
      "INFO:tensorflow:Saving checkpoints for 15771 into ./saved_models/fourth_reg/1000_1000_1000_1000_1000_1000_1000_1000_1000_1000_1000_1000_1000_1000_1000_1000_1000_1000_1000_1000_121_D04_/model.ckpt.\n",
      "INFO:tensorflow:global_step/sec: 3.23688\n",
      "INFO:tensorflow:loss = 58982194000000.0, step = 16002 (308.939 sec)\n",
      "INFO:tensorflow:global_step/sec: 3.26761\n",
      "INFO:tensorflow:loss = 55409977000000.0, step = 17002 (306.034 sec)\n",
      "INFO:tensorflow:Saving checkpoints for 17749 into ./saved_models/fourth_reg/1000_1000_1000_1000_1000_1000_1000_1000_1000_1000_1000_1000_1000_1000_1000_1000_1000_1000_1000_1000_121_D04_/model.ckpt.\n",
      "INFO:tensorflow:global_step/sec: 3.36456\n",
      "INFO:tensorflow:loss = 66328370000000.0, step = 18002 (297.215 sec)\n",
      "INFO:tensorflow:global_step/sec: 3.46799\n",
      "INFO:tensorflow:loss = 965574200000.0, step = 19002 (288.351 sec)\n"
     ]
    }
   ],
   "source": [
    "# Training hyperparameters\n",
    "\n",
    "batch_size = 50\n",
    "batch_reuse = 1  # See BatchData for an explanation of batch reuse.\n",
    "steps = 20000\n",
    "\n",
    "if TRAIN:\n",
    "    train_input_fn = BatchData(gen_one_data, batch_size, batch_reuse)\n",
    "    dnn.train(input_fn=train_input_fn, max_steps=steps)"
   ]
  },
  {
   "cell_type": "code",
   "execution_count": null,
   "metadata": {},
   "outputs": [],
   "source": [
    "# Training hyperparameters\n",
    "\n",
    "batch_size = 500\n",
    "batch_reuse = 1  # See BatchData for an explanation of batch reuse.\n",
    "steps = 30000\n",
    "\n",
    "if TRAIN:\n",
    "    train_input_fn = BatchData(gen_one_data, batch_size, batch_reuse)\n",
    "    dnn.train(input_fn=train_input_fn, max_steps=steps)"
   ]
  },
  {
   "cell_type": "code",
   "execution_count": null,
   "metadata": {},
   "outputs": [],
   "source": [
    "testing_data = gen_test_data(gen_one_data)"
   ]
  },
  {
   "cell_type": "code",
   "execution_count": null,
   "metadata": {},
   "outputs": [],
   "source": [
    "test_regressor(testing_data, dnn)"
   ]
  },
  {
   "cell_type": "code",
   "execution_count": null,
   "metadata": {},
   "outputs": [],
   "source": [
    "test_regressor(testing_data, BilinearInterp)"
   ]
  },
  {
   "cell_type": "code",
   "execution_count": null,
   "metadata": {},
   "outputs": [],
   "source": []
  }
 ],
 "metadata": {
  "kernelspec": {
   "display_name": "Python 3",
   "language": "python",
   "name": "python3"
  },
  "language_info": {
   "codemirror_mode": {
    "name": "ipython",
    "version": 3
   },
   "file_extension": ".py",
   "mimetype": "text/x-python",
   "name": "python",
   "nbconvert_exporter": "python",
   "pygments_lexer": "ipython3",
   "version": "3.6.6"
  }
 },
 "nbformat": 4,
 "nbformat_minor": 2
}
